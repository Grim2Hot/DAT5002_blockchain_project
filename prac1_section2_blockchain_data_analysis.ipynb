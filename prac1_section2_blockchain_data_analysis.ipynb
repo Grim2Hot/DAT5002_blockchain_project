{
 "cells": [
  {
   "cell_type": "code",
   "id": "initial_id",
   "metadata": {
    "collapsed": true,
    "ExecuteTime": {
     "end_time": "2024-11-14T11:35:07.229549Z",
     "start_time": "2024-11-14T11:35:07.215960Z"
    }
   },
   "source": [
    "import requests                         # For api get requests.\n",
    "import datetime                         # For converting UTX into readable DateTime.\n",
    "import toml                             # For interpreting Config file(s).\n",
    "import json                             # For interpreting mining pool data (\"pools.json\").\n",
    "from IPython.display import Markdown    # For improving visual experience of cell outputs.\n",
    "from collections import Counter         # For counting address frequencies within a block."
   ],
   "outputs": [],
   "execution_count": 15
  },
  {
   "metadata": {
    "ExecuteTime": {
     "end_time": "2024-11-14T11:35:07.308465Z",
     "start_time": "2024-11-14T11:35:07.294209Z"
    }
   },
   "cell_type": "code",
   "source": [
    "# Import the api configuration string data.\n",
    "with open('blockchain_api_config.toml', 'r') as f:\n",
    "    api_config = toml.loads(f.read())"
   ],
   "id": "b0977e4d658f32f5",
   "outputs": [],
   "execution_count": 16
  },
  {
   "metadata": {
    "ExecuteTime": {
     "end_time": "2024-11-14T11:35:07.338074Z",
     "start_time": "2024-11-14T11:35:07.326145Z"
    }
   },
   "cell_type": "code",
   "source": [
    "# Import known mining pool addresses.\n",
    "with open('pools.json', 'r') as f:\n",
    "    mining_pools = json.load(f)"
   ],
   "id": "b885ca8af3834dc9",
   "outputs": [],
   "execution_count": 17
  },
  {
   "metadata": {},
   "cell_type": "markdown",
   "source": [
    "<h1>At the time of your writing, what is the height of the most recent block mined and what is the\n",
    "difficulty level?</h1>"
   ],
   "id": "37434587cb7db2b8"
  },
  {
   "metadata": {
    "ExecuteTime": {
     "end_time": "2024-11-14T11:35:07.371267Z",
     "start_time": "2024-11-14T11:35:07.357931Z"
    }
   },
   "cell_type": "code",
   "source": [
    "def get_difficulty(_hash : str) -> int:\n",
    "    \"\"\"\n",
    "    Gets the difficulty of a blockchain block in terms of the 0-requirement for a successful hash.\n",
    "    :param _hash: (str) The block hash.\n",
    "    :return: (int) The difficulty of the block.\n",
    "    \"\"\"\n",
    "    _difficulty : int = 0\n",
    "    for _letter in _hash:\n",
    "        if _letter == \"0\":\n",
    "            _difficulty += 1\n",
    "        else:\n",
    "            return _difficulty"
   ],
   "id": "3d25e80723ef9022",
   "outputs": [],
   "execution_count": 18
  },
  {
   "metadata": {
    "ExecuteTime": {
     "end_time": "2024-11-14T11:35:07.683748Z",
     "start_time": "2024-11-14T11:35:07.406689Z"
    }
   },
   "cell_type": "code",
   "source": [
    "# Get the latest block\n",
    "latest_block = requests.get(api_config['latest_block']['root']).json()\n",
    "hash_difficulty = requests.get(api_config['blockchain_api']['root'] + \"q/getdifficulty\").json()\n",
    "\n",
    "height = latest_block['height']\n",
    "difficulty = get_difficulty(latest_block['hash'])\n",
    "\n",
    "Markdown(f\"The height of the block is: <b>{height}</b>  \"\n",
    "         f\"\\nThe difficulty-level is: <b>{round(hash_difficulty/1000000000000, 2)} trillion</b>.  \"\n",
    "         f\"\\nThis is represented by <b>{difficulty}</b> initial '0' digits required for the hash of the block to be considered a successful hash.  \"\n",
    "         f\"\\nThe hash of the latest block is: <b>{latest_block['hash']}</b>\")"
   ],
   "id": "a96d2d0f0f954cb8",
   "outputs": [
    {
     "data": {
      "text/plain": [
       "<IPython.core.display.Markdown object>"
      ],
      "text/markdown": "The height of the block is: 870267  \nThe difficulty-level is: 101.65 trillion.  \nThis is represented by 19 initial '0' digits required for the hash of the block to be considered a successful hash."
     },
     "execution_count": 19,
     "metadata": {},
     "output_type": "execute_result"
    }
   ],
   "execution_count": 19
  },
  {
   "metadata": {},
   "cell_type": "markdown",
   "source": [
    "<h1>What is the address of the miner of the block ? Can you unmask the identity of the\n",
    "address?</h1>"
   ],
   "id": "7e8c0d4643414b20"
  },
  {
   "metadata": {
    "ExecuteTime": {
     "end_time": "2024-11-14T11:35:07.687756Z",
     "start_time": "2024-11-14T11:35:07.683748Z"
    }
   },
   "cell_type": "code",
   "source": [
    "def get_miner_addr(_tx : dict) -> str:\n",
    "    \"\"\"\n",
    "    Takes a single transaction and returns the address of the miner.\n",
    "    :param _tx: (dict) Transaction to get the miner address from.\n",
    "    :return: (string) The address of the miner.\n",
    "    \"\"\"\n",
    "    for _out in _tx['out']:\n",
    "        if _out['addr']:\n",
    "            return str(_out['addr'])\n",
    "        else:\n",
    "            pass\n",
    "        \n",
    "    print(\"Error finding address for output.\")"
   ],
   "id": "c1b3d1e7f40399c8",
   "outputs": [],
   "execution_count": 20
  },
  {
   "metadata": {
    "ExecuteTime": {
     "end_time": "2024-11-14T11:35:07.693172Z",
     "start_time": "2024-11-14T11:35:07.687756Z"
    }
   },
   "cell_type": "code",
   "source": [
    "def unmask_pool_name(_addr : str) -> str:\n",
    "    \"\"\"\n",
    "    Checks known addresses of mining pools and returns that name if it exists.\n",
    "    :param _addr: (str) Address of mining pool. Eg: 15MdAHnkxt9TMC2Rj595hsg8Hnv693pPBB\n",
    "    :return: (str) The name of the mining pool. Eg: Mara Pool.\n",
    "    \n",
    "    If pool name is not located, returns 'Unknown'\n",
    "    \"\"\"\n",
    "    for _ in list(mining_pools['payout_addresses'].keys()):\n",
    "        if _addr == _:\n",
    "            return mining_pools['payout_addresses'][_]['name']\n",
    "    else:\n",
    "        return 'Unknown'"
   ],
   "id": "e6123b3c9f4e8c7c",
   "outputs": [],
   "execution_count": 21
  },
  {
   "metadata": {
    "ExecuteTime": {
     "end_time": "2024-11-14T11:35:07.814260Z",
     "start_time": "2024-11-14T11:35:07.693172Z"
    }
   },
   "cell_type": "code",
   "source": [
    "# Access our transaction data and locate the first transaction which is our coinbase transaction in BTC blockchain.\n",
    "txs = latest_block['txIndexes']\n",
    "tx = requests.get(api_config['single_transaction']['root'] + str(txs[0])).json()\n",
    "\n",
    "miner_addr = None\n",
    "\n",
    "# Slight error checking in the illogical case that a non-coinbase transaction is obtained instead.\n",
    "if len(tx['inputs']) == 1:\n",
    "    miner_addr = get_miner_addr(tx)\n",
    "else:\n",
    "    print(\"Error: Coinbase Transaction not the selected transaction\")\n",
    "    \n",
    "# See if we can identify if any known mining pools mined the block.\n",
    "pool_name = unmask_pool_name(miner_addr)\n",
    "\n",
    "Markdown(f\"The Miner's Address is: <b>{miner_addr}</b>  \"\n",
    "         f\"\\nThe pool name is <b>{pool_name}</b>.\")"
   ],
   "id": "76560aa8b438a079",
   "outputs": [
    {
     "data": {
      "text/plain": [
       "<IPython.core.display.Markdown object>"
      ],
      "text/markdown": "The Miner's Address is: 1PuJjnF476W3zXfVYmJfGnouzFDAXakkL4  \nThe pool name is Unknown."
     },
     "execution_count": 22,
     "metadata": {},
     "output_type": "execute_result"
    }
   ],
   "execution_count": 22
  },
  {
   "metadata": {
    "ExecuteTime": {
     "end_time": "2024-11-14T11:37:31.877367Z",
     "start_time": "2024-11-14T11:37:31.863568Z"
    }
   },
   "cell_type": "code",
   "source": [
    "# Proof that the unmasking function does work with a known address which should return Mara Pool.\n",
    "# Here is proof it should return Mara Pool: https://www.blockchain.com/explorer/addresses/btc/15MdAHnkxt9TMC2Rj595hsg8Hnv693pPBB\n",
    "r = unmask_pool_name(\"15MdAHnkxt9TMC2Rj595hsg8Hnv693pPBB\")\n",
    "print(r)\n",
    "del r"
   ],
   "id": "18b34bf36de92b32",
   "outputs": [
    {
     "name": "stdout",
     "output_type": "stream",
     "text": [
      "MARA Pool\n"
     ]
    }
   ],
   "execution_count": 23
  },
  {
   "metadata": {},
   "cell_type": "markdown",
   "source": "<h1>How many transactions does it contain?</h1>",
   "id": "94902a2a24ddbd3d"
  },
  {
   "metadata": {
    "ExecuteTime": {
     "end_time": "2024-11-11T15:14:42.660042Z",
     "start_time": "2024-11-11T15:14:42.649609Z"
    }
   },
   "cell_type": "code",
   "source": [
    "# Since txs variable is a List type, we can just call the length of the list.\n",
    "tx_num = len(txs)\n",
    "\n",
    "Markdown(f\"The number of transactions in the most recent block is: <b>{tx_num}</b>\")"
   ],
   "id": "cbb0568d04e8698c",
   "outputs": [
    {
     "data": {
      "text/plain": [
       "<IPython.core.display.Markdown object>"
      ],
      "text/markdown": "The number of transactions in the most recent block is: 2628"
     },
     "execution_count": 21,
     "metadata": {},
     "output_type": "execute_result"
    }
   ],
   "execution_count": 21
  },
  {
   "metadata": {},
   "cell_type": "markdown",
   "source": "<h1>Which address has the most balance?</h1>",
   "id": "8d403770a81ac34d"
  },
  {
   "metadata": {},
   "cell_type": "markdown",
   "source": "",
   "id": "f1e7c16936dd0e7e"
  },
  {
   "metadata": {},
   "cell_type": "markdown",
   "source": "<i>Defining Functions</i>",
   "id": "292651099db92a59"
  },
  {
   "metadata": {
    "ExecuteTime": {
     "end_time": "2024-11-11T17:45:59.145838Z",
     "start_time": "2024-11-11T17:45:59.133153Z"
    }
   },
   "cell_type": "code",
   "source": [
    "def get_block_addresses(_current_block : dict, _in : bool) -> list:\n",
    "    \"\"\"\n",
    "    Takes the current block and finds all addresses referenced within the block; addresses who either sent btc (_in=True) or received btc (_in=False).\n",
    "    :param _current_block: (dict) The dictionary representing the current block.\n",
    "    :param _in: (bool) True if you want to look at transaction inputs. False if you want to look at transaction outputs.\n",
    "    :return: (list) Return a list of all the addresses of the given _in parameter.\n",
    "    \"\"\"\n",
    "    _addresses = []\n",
    "    _txs = _current_block['txIndexes']\n",
    "    \n",
    "    if _in:\n",
    "        for _tx in _txs[1:]:\n",
    "            _req = requests.get(api_config['single_transaction']['root'] + str(_tx)).json()\n",
    "            \n",
    "            for _input in _req['inputs']:\n",
    "                _addresses.append(_input['prev_out']['addr'])\n",
    "                \n",
    "    else:\n",
    "        for _tx in _txs:\n",
    "            _req = requests.get(api_config['single_transaction']['root'] + str(_tx)).json()\n",
    "            \n",
    "            for _out in _req['out']:\n",
    "                \n",
    "                if _out['value'] == 0:\n",
    "                    continue\n",
    "                elif 'addr' in _out.keys():\n",
    "                    _addresses.append(_out['addr'])\n",
    "                else:\n",
    "                    continue\n",
    "                \n",
    "    return _addresses        "
   ],
   "id": "edd29e2778d50474",
   "outputs": [],
   "execution_count": 102
  },
  {
   "metadata": {
    "ExecuteTime": {
     "end_time": "2024-11-11T17:45:59.540588Z",
     "start_time": "2024-11-11T17:45:59.532799Z"
    }
   },
   "cell_type": "code",
   "source": [
    "def addresses_to_str(_addresses : list) -> str:\n",
    "    \"\"\"\n",
    "    Takes a list of addresses and converts it to a single string containing said addresses separated by pipes.\n",
    "    :param _addresses: (list) List of addresses to convert.\n",
    "    :return: (str) The string of all concatenated addresses separated by pipes.\n",
    "    \"\"\"\n",
    "    _rtrn_str : str = \"\"\n",
    "    \n",
    "    for _addr in _addresses:\n",
    "        \n",
    "        if _rtrn_str == \"\":\n",
    "            _rtrn_str = str(_addr)\n",
    "            \n",
    "        else:\n",
    "            _rtrn_str += \"|\" + str(_addr)\n",
    "            \n",
    "    return _rtrn_str"
   ],
   "id": "1fd05359d7bd06dd",
   "outputs": [],
   "execution_count": 103
  },
  {
   "metadata": {
    "ExecuteTime": {
     "end_time": "2024-11-11T17:45:59.940339Z",
     "start_time": "2024-11-11T17:45:59.933918Z"
    }
   },
   "cell_type": "code",
   "source": [
    "def chunk_addresses(_addresses : list, _chunk_size : int = 50) -> list:\n",
    "    \"\"\"\n",
    "    Takes a list of addresses and splits it into chunks of _chunk_size.\n",
    "    For example, if you pass a list of 1000 it will return blocks of addresses equal to _chunk_size, default 50.\n",
    "    \n",
    "    This function should only be used in a loop as it returns a generator that yields chunks of addresses.\n",
    "    \n",
    "    :param _addresses: (list) List of addresses to split.\n",
    "    :param _chunk_size: (int) The value of addresses to be grouped and returned.\n",
    "    :return: (generator) List of addresses of a number equal to _chunk_size. \n",
    "    \"\"\"\n",
    "    for i in range(0, len(_addresses), _chunk_size):\n",
    "        yield _addresses[i:i + _chunk_size]"
   ],
   "id": "4f561cf8caa1ef19",
   "outputs": [],
   "execution_count": 104
  },
  {
   "metadata": {
    "ExecuteTime": {
     "end_time": "2024-11-11T17:46:00.368665Z",
     "start_time": "2024-11-11T17:46:00.349965Z"
    }
   },
   "cell_type": "code",
   "source": [
    "def get_max_balance(_current_block : dict, _in : bool, _chunk_size : int = 50) -> dict:\n",
    "    \"\"\"\n",
    "    Takes the current block and finds the maximum balance of the addresses in the block.\n",
    "    :param _current_block: (dict) The dictionary representing the current block.\n",
    "    :param _in: (bool) True if you want to look at transaction inputs. False if you want to look at transaction outputs.\n",
    "    :param _chunk_size: (int) The value of addresses to be grouped and returned. Higher means more latency time but less compute time.\n",
    "    :return: (dict) The address which held the maximum balance as the key, and the maximum balance as the value.\n",
    "    \"\"\"\n",
    "    \n",
    "    _addresses = get_block_addresses(_current_block, _in)\n",
    "    \n",
    "    # We get a lot of double-counts through the get_block_addresses\n",
    "    # Since we aren't worried about transaction order, we can remove them to minimise api get requests.\n",
    "    _unique_addr = list(set(_addresses))\n",
    "    \n",
    "    # Initialise our important counter/container variables.\n",
    "    rtrn_dict : dict = {}\n",
    "    max_balance : float = 0.0\n",
    "    max_addr : str = \"\"\n",
    "    \n",
    "    # Iterate over our generator object returned from chunk_addresses() function.\n",
    "    for _addr_chunk in chunk_addresses(_unique_addr, _chunk_size):\n",
    "        # Turn our addresses into concatenated string which can be used in an api get request.\n",
    "        _address_str = addresses_to_str(_addr_chunk)\n",
    "        \n",
    "        # Get the balance request of multiple addresses using pipe delimiter.\n",
    "        balance_request = requests.get(api_config['balance']['root'] + _address_str)\n",
    "        balance_data = balance_request.json()\n",
    "        \n",
    "        # For each address, look at the final balance of the address and see if it is the greatest value seen.\n",
    "        for _addr, _bal_info in balance_data.items():\n",
    "            balance = _bal_info['final_balance']\n",
    "            max_balance = max(max_balance, balance)\n",
    "            \n",
    "            # If the max_balance is the balance for the current address, store that address.\n",
    "            if balance == max_balance:\n",
    "                max_addr = _addr\n",
    "    \n",
    "    \n",
    "    rtrn_dict[max_addr] = max_balance        \n",
    "            \n",
    "    return rtrn_dict"
   ],
   "id": "2f8294d50a786002",
   "outputs": [],
   "execution_count": 105
  },
  {
   "metadata": {
    "ExecuteTime": {
     "end_time": "2024-11-11T17:46:01.112091Z",
     "start_time": "2024-11-11T17:46:01.102040Z"
    }
   },
   "cell_type": "code",
   "source": [
    "def get_exchange_rates() -> dict:\n",
    "    # Very simply gets exchangerates from the blockchain.\n",
    "    return requests.get(\"https://blockchain.info/ticker\").json()"
   ],
   "id": "688e2ec9962c81cb",
   "outputs": [],
   "execution_count": 106
  },
  {
   "metadata": {
    "ExecuteTime": {
     "end_time": "2024-11-11T17:46:01.530658Z",
     "start_time": "2024-11-11T17:46:01.514811Z"
    }
   },
   "cell_type": "code",
   "source": [
    "def calc_currency_conversion(_exchange_data : dict, _currency : list, _btc : float) -> float:\n",
    "    \"\"\"\n",
    "    Takes the exchange rate data and calculates the currency conversion.\n",
    "    :param _exchange_data: (dict) The exchange rate data.\n",
    "    :param _currency: (list) The currency to convert and crucially the time period for the data.\n",
    "    :param _btc: (float) The btc value to convert. Crucially, not in satoshi.\n",
    "    :return: (float) The currency conversion.\n",
    "    \"\"\"\n",
    "    return _btc * int(_exchange_data[_currency[0]][_currency[1]])"
   ],
   "id": "6afa5501afa05e30",
   "outputs": [],
   "execution_count": 107
  },
  {
   "metadata": {
    "ExecuteTime": {
     "end_time": "2024-11-11T17:46:01.918229Z",
     "start_time": "2024-11-11T17:46:01.912584Z"
    }
   },
   "cell_type": "code",
   "source": [
    "def format_float_to_str(_float : float) -> str:\n",
    "    # Converts a float value to string using string formatting.\n",
    "    return \"{:,.2f}\".format(_float)"
   ],
   "id": "148afcad17be0293",
   "outputs": [],
   "execution_count": 108
  },
  {
   "metadata": {},
   "cell_type": "markdown",
   "source": "<i>End of defining functions</i>",
   "id": "391dea28141bfe6b"
  },
  {
   "metadata": {
    "ExecuteTime": {
     "end_time": "2024-11-11T17:46:03.615229Z",
     "start_time": "2024-11-11T17:46:03.508241Z"
    }
   },
   "cell_type": "code",
   "source": "exchange_data = get_exchange_rates()",
   "id": "995445b4cd87bb61",
   "outputs": [],
   "execution_count": 109
  },
  {
   "metadata": {
    "ExecuteTime": {
     "end_time": "2024-11-11T18:05:51.241800Z",
     "start_time": "2024-11-11T18:00:06.860233Z"
    }
   },
   "cell_type": "code",
   "source": "in_max = get_max_balance(latest_block, True, 50)",
   "id": "bbb7e50da4fe56bf",
   "outputs": [],
   "execution_count": 111
  },
  {
   "metadata": {
    "ExecuteTime": {
     "end_time": "2024-11-11T18:08:17.515324Z",
     "start_time": "2024-11-11T18:08:17.509528Z"
    }
   },
   "cell_type": "code",
   "source": "in_max_addr, in_max_balance = next(iter(in_max.items()))",
   "id": "86fc9b7237bd6eab",
   "outputs": [],
   "execution_count": 113
  },
  {
   "metadata": {
    "ExecuteTime": {
     "end_time": "2024-11-11T18:30:28.785778Z",
     "start_time": "2024-11-11T18:30:28.778884Z"
    }
   },
   "cell_type": "code",
   "source": [
    "in_max_btc = in_max_balance / 100000000\n",
    "in_max_usd = calc_currency_conversion(exchange_data, [\"USD\", \"15m\"], in_max_btc)\n",
    "in_max_usd_f = format_float_to_str(in_max_usd)\n",
    "\n",
    "\n",
    "Markdown(f\"Max btc balance of addresses who sent money in this block is: <b>{in_max_btc}</b>  \"\n",
    "         f\"\\nThe USD conversion equates to: <b>${in_max_usd_f}</b>  \"\n",
    "         f\"\\nThe address with this value of bitcoin was: <b>{in_max_addr}</b>\")"
   ],
   "id": "ed181205c3c3e4e1",
   "outputs": [
    {
     "data": {
      "text/plain": [
       "<IPython.core.display.Markdown object>"
      ],
      "text/markdown": "Max btc balance of addresses who sent money in this block is: 18208.77531143  \nThe USD conversion equates to: $1,546,616,957.40  \nThe address with this value of bitcoin was: bc1qm34lsc65zpw79lxes69zkqmk6ee3ewf0j77s3h"
     },
     "execution_count": 128,
     "metadata": {},
     "output_type": "execute_result"
    }
   ],
   "execution_count": 128
  },
  {
   "metadata": {
    "ExecuteTime": {
     "end_time": "2024-11-11T18:14:31.524602Z",
     "start_time": "2024-11-11T18:09:13.882537Z"
    }
   },
   "cell_type": "code",
   "source": "out_max = get_max_balance(latest_block, False, 50)",
   "id": "c105052cf78af1aa",
   "outputs": [],
   "execution_count": 116
  },
  {
   "metadata": {
    "ExecuteTime": {
     "end_time": "2024-11-11T18:14:31.529514Z",
     "start_time": "2024-11-11T18:14:31.524602Z"
    }
   },
   "cell_type": "code",
   "source": "out_max_addr, out_max_balance = next(iter(out_max.items()))",
   "id": "4fbccea84569de74",
   "outputs": [],
   "execution_count": 117
  },
  {
   "metadata": {
    "ExecuteTime": {
     "end_time": "2024-11-11T18:30:31.353316Z",
     "start_time": "2024-11-11T18:30:31.344602Z"
    }
   },
   "cell_type": "code",
   "source": [
    "out_max_btc = out_max_balance / 100000000\n",
    "out_max_usd = calc_currency_conversion(exchange_data, [\"USD\", \"15m\"], out_max_btc)\n",
    "out_max_usd_f = format_float_to_str(out_max_usd)\n",
    "\n",
    "\n",
    "Markdown(f\"Max btc balance of addresses who received money in this block is: <b>{out_max_btc}</b>  \"\n",
    "         f\"\\nThe USD conversion equates to: <b>${out_max_usd_f}</b>  \"\n",
    "         f\"\\nThe address with this value of bitcoin was: <b>{out_max_addr}</b>\")"
   ],
   "id": "c708438adcb96d9b",
   "outputs": [
    {
     "data": {
      "text/plain": [
       "<IPython.core.display.Markdown object>"
      ],
      "text/markdown": "Max btc balance of addresses who received money in this block is: 27490.96467139  \nThe USD conversion equates to: $2,335,027,557.26  \nThe address with this value of bitcoin was: bc1qr4dl5wa7kl8yu792dceg9z5knl2gkn220lk7a9"
     },
     "execution_count": 129,
     "metadata": {},
     "output_type": "execute_result"
    }
   ],
   "execution_count": 129
  },
  {
   "metadata": {
    "ExecuteTime": {
     "end_time": "2024-11-11T18:32:34.268176Z",
     "start_time": "2024-11-11T18:32:34.261293Z"
    }
   },
   "cell_type": "code",
   "source": [
    "if out_max_btc > in_max_btc:\n",
    "    print(f\"Therefor, the address with the greatest balance is {out_max_addr} with {out_max_btc} BTC\")\n",
    "    \n",
    "else:\n",
    "    print(f\"Therefor, the address with the greatest balance is {in_max_addr} with {in_max_btc} BTC\")"
   ],
   "id": "dee980b0861dbc19",
   "outputs": [],
   "execution_count": 134
  },
  {
   "metadata": {},
   "cell_type": "markdown",
   "source": "<h1>Which address has most number of transactions?</h1>",
   "id": "cee3fd132f1fa35a"
  },
  {
   "metadata": {
    "ExecuteTime": {
     "end_time": "2024-11-11T18:28:23.226413Z",
     "start_time": "2024-11-11T18:18:52.848610Z"
    }
   },
   "cell_type": "code",
   "source": [
    "total_addr = get_block_addresses(latest_block, True)\n",
    "total_addr += get_block_addresses(latest_block, False)"
   ],
   "id": "31892415cfccca5",
   "outputs": [],
   "execution_count": 119
  },
  {
   "metadata": {
    "ExecuteTime": {
     "end_time": "2024-11-11T18:37:01.130691Z",
     "start_time": "2024-11-11T18:37:01.120525Z"
    }
   },
   "cell_type": "code",
   "source": [
    "addr_count = Counter(total_addr)\n",
    "\n",
    "max_addr, max_count = addr_count.most_common(1)[0]\n",
    "\n",
    "Markdown(f\"The address with the most transactions in this block was: {max_addr}  \"\n",
    "         f\"\\nThey were involved in transactions (potentially as both senders and receivers) a total of {max_count} times in this block!\")"
   ],
   "id": "a3a17a0ad59730a5",
   "outputs": [
    {
     "data": {
      "text/plain": [
       "<IPython.core.display.Markdown object>"
      ],
      "text/markdown": "The address with the most transactions in this block was: 1GrwDkr33gT6LuumniYjKEGjTLhsL5kmqC  \nThey were involved in transactions (potentially as both senders and receivers) a total of 556 times in this block!"
     },
     "execution_count": 137,
     "metadata": {},
     "output_type": "execute_result"
    }
   ],
   "execution_count": 137
  },
  {
   "metadata": {},
   "cell_type": "markdown",
   "source": "<h1>When did this address become active? (first transaction on the network)</h1>",
   "id": "b836c49cd7e59f0b"
  },
  {
   "metadata": {
    "ExecuteTime": {
     "end_time": "2024-11-11T18:44:40.261857Z",
     "start_time": "2024-11-11T18:44:40.122773Z"
    }
   },
   "cell_type": "code",
   "source": [
    "seen = requests.get(api_config['blockchain_api']['root'] + 'q/addressfirstseen/' + str(max_addr)).json()\n",
    "seen_dt = datetime.datetime.utcfromtimestamp(seen)\n",
    "\n",
    "Markdown(f\"This address saw its first activity on the Bitcoin blockchain on \"\n",
    "         f\"{seen_dt.strftime('%d/%m/%y')} at {seen_dt.strftime('%H:%M')}.\")"
   ],
   "id": "b062516e7ea54fab",
   "outputs": [
    {
     "data": {
      "text/plain": [
       "<IPython.core.display.Markdown object>"
      ],
      "text/markdown": "This address saw its first activity on the Bitcoin blockchain on 06/08/21 at 06:32."
     },
     "execution_count": 147,
     "metadata": {},
     "output_type": "execute_result"
    }
   ],
   "execution_count": 147
  }
 ],
 "metadata": {
  "kernelspec": {
   "display_name": "Python 3",
   "language": "python",
   "name": "python3"
  },
  "language_info": {
   "codemirror_mode": {
    "name": "ipython",
    "version": 2
   },
   "file_extension": ".py",
   "mimetype": "text/x-python",
   "name": "python",
   "nbconvert_exporter": "python",
   "pygments_lexer": "ipython2",
   "version": "2.7.6"
  }
 },
 "nbformat": 4,
 "nbformat_minor": 5
}
