{
 "cells": [
  {
   "cell_type": "code",
   "id": "initial_id",
   "metadata": {
    "collapsed": true,
    "ExecuteTime": {
     "end_time": "2024-11-11T18:31:51.545186Z",
     "start_time": "2024-11-11T18:31:51.540020Z"
    }
   },
   "source": [
    "import requests\n",
    "import datetime\n",
    "import toml\n",
    "from IPython.display import Markdown\n",
    "from collections import Counter"
   ],
   "outputs": [],
   "execution_count": 132
  },
  {
   "metadata": {
    "ExecuteTime": {
     "end_time": "2024-11-11T16:35:58.193547Z",
     "start_time": "2024-11-11T16:35:58.187053Z"
    }
   },
   "cell_type": "code",
   "source": [
    "# Import the api configuration string data.\n",
    "with open('blockchain_api_config.toml', 'r') as f:\n",
    "    api_config = toml.loads(f.read())"
   ],
   "id": "b0977e4d658f32f5",
   "outputs": [],
   "execution_count": 68
  },
  {
   "metadata": {},
   "cell_type": "markdown",
   "source": [
    "<h1>At the time of your writing, what is the height of the most recent block mined and what is the\n",
    "difficulty level?</h1>"
   ],
   "id": "37434587cb7db2b8"
  },
  {
   "metadata": {
    "ExecuteTime": {
     "end_time": "2024-11-11T15:03:08.145962Z",
     "start_time": "2024-11-11T15:03:08.139213Z"
    }
   },
   "cell_type": "code",
   "source": [
    "def get_difficulty(_hash : str) -> int:\n",
    "    _difficulty : int = 0\n",
    "    for _letter in _hash:\n",
    "        if _letter == \"0\":\n",
    "            _difficulty += 1\n",
    "        else:\n",
    "            return _difficulty"
   ],
   "id": "3d25e80723ef9022",
   "outputs": [],
   "execution_count": 12
  },
  {
   "metadata": {
    "ExecuteTime": {
     "end_time": "2024-11-11T15:12:28.242997Z",
     "start_time": "2024-11-11T15:12:27.963364Z"
    }
   },
   "cell_type": "code",
   "source": [
    "latest_block = requests.get(api_config['latest_block']['root']).json()\n",
    "hash_difficulty = requests.get(api_config['blockchain_api']['root'] + \"q/getdifficulty\").json()\n",
    "\n",
    "height = latest_block['height']\n",
    "difficulty = get_difficulty(latest_block['hash'])\n",
    "\n",
    "Markdown(f\"The height of the block is: {height}  \\nThe difficulty-level is: {round(hash_difficulty/1000000000000, 2)} trillion.  \\nThis is represented by {difficulty} initial '0' digits required for the hash of the block to be considered a successful hash.\")"
   ],
   "id": "a96d2d0f0f954cb8",
   "outputs": [
    {
     "data": {
      "text/plain": [
       "<IPython.core.display.Markdown object>"
      ],
      "text/markdown": "The height of the block is: 869858  \nThe difficulty-level is: 101.65 trillion.  \nThis is represented by 21 initial 0 requirement for the hash of the block to be mined."
     },
     "execution_count": 19,
     "metadata": {},
     "output_type": "execute_result"
    }
   ],
   "execution_count": 19
  },
  {
   "metadata": {},
   "cell_type": "markdown",
   "source": [
    "<h1>What is the address of the miner of the block ? Can you unmask the identity of the\n",
    "address?</h1>"
   ],
   "id": "7e8c0d4643414b20"
  },
  {
   "metadata": {
    "ExecuteTime": {
     "end_time": "2024-11-11T15:44:26.276480Z",
     "start_time": "2024-11-11T15:44:26.267660Z"
    }
   },
   "cell_type": "code",
   "source": [
    "def get_miner_addr(_tx : dict) -> str:\n",
    "    for _out in _tx['out']:\n",
    "        if _out['addr']:\n",
    "            return str(_out['addr'])\n",
    "        else:\n",
    "            pass\n",
    "        \n",
    "    print(\"Error finding address for output.\")"
   ],
   "id": "c1b3d1e7f40399c8",
   "outputs": [],
   "execution_count": 43
  },
  {
   "metadata": {
    "ExecuteTime": {
     "end_time": "2024-11-11T15:44:50.830488Z",
     "start_time": "2024-11-11T15:44:50.679094Z"
    }
   },
   "cell_type": "code",
   "source": [
    "txs = latest_block['txIndexes']\n",
    "tx = requests.get(api_config['single_transaction']['root'] + str(txs[0])).json()\n",
    "miner_addr = None\n",
    "\n",
    "\n",
    "if len(tx['inputs']) == 1:\n",
    "    miner_addr = get_miner_addr(tx)\n",
    "else:\n",
    "    print(\"Error: Coinbase Transaction not the selected transaction\")\n",
    "    \n",
    "\n",
    "Markdown(f\"The Miner's Address is: {miner_addr}\")"
   ],
   "id": "76560aa8b438a079",
   "outputs": [
    {
     "data": {
      "text/plain": [
       "<IPython.core.display.Markdown object>"
      ],
      "text/markdown": "The Miner's Address is: 1PuJjnF476W3zXfVYmJfGnouzFDAXakkL4"
     },
     "execution_count": 45,
     "metadata": {},
     "output_type": "execute_result"
    }
   ],
   "execution_count": 45
  },
  {
   "metadata": {},
   "cell_type": "markdown",
   "source": "<h1>How many transactions does it contain?</h1>",
   "id": "94902a2a24ddbd3d"
  },
  {
   "metadata": {
    "ExecuteTime": {
     "end_time": "2024-11-11T15:14:42.660042Z",
     "start_time": "2024-11-11T15:14:42.649609Z"
    }
   },
   "cell_type": "code",
   "source": [
    "tx_num = len(txs)\n",
    "\n",
    "Markdown(f\"The number of transactions in the most recent block is: {tx_num}\")"
   ],
   "id": "cbb0568d04e8698c",
   "outputs": [
    {
     "data": {
      "text/plain": [
       "<IPython.core.display.Markdown object>"
      ],
      "text/markdown": "The number of transactions in the most recent block is: 2628"
     },
     "execution_count": 21,
     "metadata": {},
     "output_type": "execute_result"
    }
   ],
   "execution_count": 21
  },
  {
   "metadata": {},
   "cell_type": "markdown",
   "source": "<h1>Which address has the most balance?</h1>",
   "id": "8d403770a81ac34d"
  },
  {
   "metadata": {},
   "cell_type": "markdown",
   "source": "<i>Defining Functions</i>",
   "id": "292651099db92a59"
  },
  {
   "metadata": {
    "ExecuteTime": {
     "end_time": "2024-11-11T17:45:59.145838Z",
     "start_time": "2024-11-11T17:45:59.133153Z"
    }
   },
   "cell_type": "code",
   "source": [
    "def get_block_addresses(_current_block : dict, _in : bool) -> list:\n",
    "    _addresses = []\n",
    "    _txs = _current_block['txIndexes']\n",
    "    \n",
    "    if _in:\n",
    "        for _tx in _txs[1:]:\n",
    "            _req = requests.get(api_config['single_transaction']['root'] + str(_tx)).json()\n",
    "            \n",
    "            for _input in _req['inputs']:\n",
    "                _addresses.append(_input['prev_out']['addr'])\n",
    "                \n",
    "    else:\n",
    "        for _tx in _txs:\n",
    "            _req = requests.get(api_config['single_transaction']['root'] + str(_tx)).json()\n",
    "            \n",
    "            for _out in _req['out']:\n",
    "                \n",
    "                if _out['value'] == 0:\n",
    "                    continue\n",
    "                if 'addr' in _out.keys():\n",
    "                    _addresses.append(_out['addr'])\n",
    "                else:\n",
    "                    continue\n",
    "                \n",
    "    return _addresses        "
   ],
   "id": "edd29e2778d50474",
   "outputs": [],
   "execution_count": 102
  },
  {
   "metadata": {
    "ExecuteTime": {
     "end_time": "2024-11-11T17:45:59.540588Z",
     "start_time": "2024-11-11T17:45:59.532799Z"
    }
   },
   "cell_type": "code",
   "source": [
    "def addresses_to_str(_addresses : list) -> str:\n",
    "    _rtrn_str : str = \"\"\n",
    "    \n",
    "    for _addr in _addresses:\n",
    "        \n",
    "        if _rtrn_str == \"\":\n",
    "            _rtrn_str = str(_addr)\n",
    "            \n",
    "        else:\n",
    "            _rtrn_str += \"|\" + str(_addr)\n",
    "            \n",
    "    return _rtrn_str"
   ],
   "id": "1fd05359d7bd06dd",
   "outputs": [],
   "execution_count": 103
  },
  {
   "metadata": {
    "ExecuteTime": {
     "end_time": "2024-11-11T17:45:59.940339Z",
     "start_time": "2024-11-11T17:45:59.933918Z"
    }
   },
   "cell_type": "code",
   "source": [
    "def chunk_addresses(_addresses : list, _chunk_size : int = 50) -> list:\n",
    "    for i in range(0, len(_addresses), _chunk_size):\n",
    "        yield _addresses[i:i + _chunk_size]"
   ],
   "id": "4f561cf8caa1ef19",
   "outputs": [],
   "execution_count": 104
  },
  {
   "metadata": {
    "ExecuteTime": {
     "end_time": "2024-11-11T17:46:00.368665Z",
     "start_time": "2024-11-11T17:46:00.349965Z"
    }
   },
   "cell_type": "code",
   "source": [
    "def get_max_balance(_current_block : dict, _in : bool, _chunk_size : int = 50) -> dict:\n",
    "    _addresses = get_block_addresses(_current_block, _in)\n",
    "    \n",
    "    _unique_addr = list(set(_addresses))\n",
    "    rtrn_dict = {}\n",
    "    max_balance = 0\n",
    "    max_addr = \"\"\n",
    "    \n",
    "    for _addr_chunk in chunk_addresses(_unique_addr, _chunk_size):\n",
    "        _address_str = addresses_to_str(_addr_chunk)\n",
    "        \n",
    "        balance_request = requests.get(api_config['balance']['root'] + _address_str)\n",
    "        balance_data = balance_request.json()\n",
    "        \n",
    "        for _addr, _bal_info in balance_data.items():\n",
    "            balance = _bal_info['final_balance']\n",
    "            max_balance = max(max_balance, balance)\n",
    "            \n",
    "            if balance == max_balance:\n",
    "                max_addr = _addr\n",
    "    \n",
    "    \n",
    "    rtrn_dict[max_addr] = max_balance        \n",
    "            \n",
    "    return rtrn_dict"
   ],
   "id": "2f8294d50a786002",
   "outputs": [],
   "execution_count": 105
  },
  {
   "metadata": {
    "ExecuteTime": {
     "end_time": "2024-11-11T17:46:01.112091Z",
     "start_time": "2024-11-11T17:46:01.102040Z"
    }
   },
   "cell_type": "code",
   "source": [
    "def get_exchange_rates() -> dict:\n",
    "    return requests.get(\"https://blockchain.info/ticker\").json()"
   ],
   "id": "688e2ec9962c81cb",
   "outputs": [],
   "execution_count": 106
  },
  {
   "metadata": {
    "ExecuteTime": {
     "end_time": "2024-11-11T17:46:01.530658Z",
     "start_time": "2024-11-11T17:46:01.514811Z"
    }
   },
   "cell_type": "code",
   "source": [
    "def calc_currency_conversion(_exchange_data : dict, _currency : list, _btc : float) -> float:\n",
    "    return _btc * int(_exchange_data[_currency[0]][_currency[1]])"
   ],
   "id": "6afa5501afa05e30",
   "outputs": [],
   "execution_count": 107
  },
  {
   "metadata": {
    "ExecuteTime": {
     "end_time": "2024-11-11T17:46:01.918229Z",
     "start_time": "2024-11-11T17:46:01.912584Z"
    }
   },
   "cell_type": "code",
   "source": [
    "def format_float_to_str(_float : float) -> str:\n",
    "    return \"{:,.2f}\".format(_float)"
   ],
   "id": "148afcad17be0293",
   "outputs": [],
   "execution_count": 108
  },
  {
   "metadata": {},
   "cell_type": "markdown",
   "source": "<i>End of defining functions</i>",
   "id": "391dea28141bfe6b"
  },
  {
   "metadata": {
    "ExecuteTime": {
     "end_time": "2024-11-11T17:46:03.615229Z",
     "start_time": "2024-11-11T17:46:03.508241Z"
    }
   },
   "cell_type": "code",
   "source": "exchange_data = get_exchange_rates()",
   "id": "995445b4cd87bb61",
   "outputs": [],
   "execution_count": 109
  },
  {
   "metadata": {
    "ExecuteTime": {
     "end_time": "2024-11-11T18:05:51.241800Z",
     "start_time": "2024-11-11T18:00:06.860233Z"
    }
   },
   "cell_type": "code",
   "source": "in_max = get_max_balance(latest_block, True, 50)",
   "id": "bbb7e50da4fe56bf",
   "outputs": [],
   "execution_count": 111
  },
  {
   "metadata": {
    "ExecuteTime": {
     "end_time": "2024-11-11T18:08:17.515324Z",
     "start_time": "2024-11-11T18:08:17.509528Z"
    }
   },
   "cell_type": "code",
   "source": "in_max_addr, in_max_balance = next(iter(in_max.items()))",
   "id": "86fc9b7237bd6eab",
   "outputs": [],
   "execution_count": 113
  },
  {
   "metadata": {
    "ExecuteTime": {
     "end_time": "2024-11-11T18:30:28.785778Z",
     "start_time": "2024-11-11T18:30:28.778884Z"
    }
   },
   "cell_type": "code",
   "source": [
    "in_max_btc = in_max_balance / 100000000\n",
    "in_max_usd = calc_currency_conversion(exchange_data, [\"USD\", \"15m\"], in_max_btc)\n",
    "in_max_usd_f = format_float_to_str(in_max_usd)\n",
    "\n",
    "\n",
    "Markdown(f\"Max btc balance of addresses who sent money in this block is: {in_max_btc}  \"\n",
    "         f\"\\nThe USD conversion equates to: ${in_max_usd_f}  \"\n",
    "         f\"\\nThe address with this value of bitcoin was: {in_max_addr}\")"
   ],
   "id": "ed181205c3c3e4e1",
   "outputs": [
    {
     "data": {
      "text/plain": [
       "<IPython.core.display.Markdown object>"
      ],
      "text/markdown": "Max btc balance of addresses who sent money in this block is: 18208.77531143  \nThe USD conversion equates to: $1,546,616,957.40  \nThe address with this value of bitcoin was: bc1qm34lsc65zpw79lxes69zkqmk6ee3ewf0j77s3h"
     },
     "execution_count": 128,
     "metadata": {},
     "output_type": "execute_result"
    }
   ],
   "execution_count": 128
  },
  {
   "metadata": {
    "ExecuteTime": {
     "end_time": "2024-11-11T18:14:31.524602Z",
     "start_time": "2024-11-11T18:09:13.882537Z"
    }
   },
   "cell_type": "code",
   "source": "out_max = get_max_balance(latest_block, False, 50)",
   "id": "c105052cf78af1aa",
   "outputs": [],
   "execution_count": 116
  },
  {
   "metadata": {
    "ExecuteTime": {
     "end_time": "2024-11-11T18:14:31.529514Z",
     "start_time": "2024-11-11T18:14:31.524602Z"
    }
   },
   "cell_type": "code",
   "source": "out_max_addr, out_max_balance = next(iter(out_max.items()))",
   "id": "4fbccea84569de74",
   "outputs": [],
   "execution_count": 117
  },
  {
   "metadata": {
    "ExecuteTime": {
     "end_time": "2024-11-11T18:30:31.353316Z",
     "start_time": "2024-11-11T18:30:31.344602Z"
    }
   },
   "cell_type": "code",
   "source": [
    "out_max_btc = out_max_balance / 100000000\n",
    "out_max_usd = calc_currency_conversion(exchange_data, [\"USD\", \"15m\"], out_max_btc)\n",
    "out_max_usd_f = format_float_to_str(out_max_usd)\n",
    "\n",
    "\n",
    "Markdown(f\"Max btc balance of addresses who received money in this block is: {out_max_btc}  \"\n",
    "         f\"\\nThe USD conversion equates to: ${out_max_usd_f}  \"\n",
    "         f\"\\nThe address with this value of bitcoin was: {out_max_addr}\")"
   ],
   "id": "c708438adcb96d9b",
   "outputs": [
    {
     "data": {
      "text/plain": [
       "<IPython.core.display.Markdown object>"
      ],
      "text/markdown": "Max btc balance of addresses who received money in this block is: 27490.96467139  \nThe USD conversion equates to: $2,335,027,557.26  \nThe address with this value of bitcoin was: bc1qr4dl5wa7kl8yu792dceg9z5knl2gkn220lk7a9"
     },
     "execution_count": 129,
     "metadata": {},
     "output_type": "execute_result"
    }
   ],
   "execution_count": 129
  },
  {
   "metadata": {
    "ExecuteTime": {
     "end_time": "2024-11-11T18:32:34.268176Z",
     "start_time": "2024-11-11T18:32:34.261293Z"
    }
   },
   "cell_type": "code",
   "source": [
    "if out_max_btc > in_max_btc:\n",
    "    print(f\"Therefor, the address with the greatest balance is {out_max_addr} with {out_max_btc} BTC\")\n",
    "    \n",
    "else:\n",
    "    print(f\"Therefor, the address with the greatest balance is {in_max_addr} with {in_max_btc} BTC\")"
   ],
   "id": "dee980b0861dbc19",
   "outputs": [],
   "execution_count": 134
  },
  {
   "metadata": {},
   "cell_type": "markdown",
   "source": "<h1>Which address has most number of transactions?</h1>",
   "id": "cee3fd132f1fa35a"
  },
  {
   "metadata": {
    "ExecuteTime": {
     "end_time": "2024-11-11T18:28:23.226413Z",
     "start_time": "2024-11-11T18:18:52.848610Z"
    }
   },
   "cell_type": "code",
   "source": [
    "total_addr = get_block_addresses(latest_block, True)\n",
    "total_addr += get_block_addresses(latest_block, False)"
   ],
   "id": "31892415cfccca5",
   "outputs": [],
   "execution_count": 119
  },
  {
   "metadata": {
    "ExecuteTime": {
     "end_time": "2024-11-11T18:37:01.130691Z",
     "start_time": "2024-11-11T18:37:01.120525Z"
    }
   },
   "cell_type": "code",
   "source": [
    "addr_count = Counter(total_addr)\n",
    "\n",
    "max_addr, max_count = addr_count.most_common(1)[0]\n",
    "\n",
    "Markdown(f\"The address with the most transactions in this block was: {max_addr}  \"\n",
    "         f\"\\nThey were involved in transactions (potentially as both senders and receivers) a total of {max_count} times in this block!\")"
   ],
   "id": "a3a17a0ad59730a5",
   "outputs": [
    {
     "data": {
      "text/plain": [
       "<IPython.core.display.Markdown object>"
      ],
      "text/markdown": "The address with the most transactions in this block was: 1GrwDkr33gT6LuumniYjKEGjTLhsL5kmqC  \nThey were involved in transactions (potentially as both senders and receivers) a total of 556 times in this block!"
     },
     "execution_count": 137,
     "metadata": {},
     "output_type": "execute_result"
    }
   ],
   "execution_count": 137
  },
  {
   "metadata": {},
   "cell_type": "markdown",
   "source": "<h1>When did this address become active? (first transaction on the network)</h1>",
   "id": "b836c49cd7e59f0b"
  },
  {
   "metadata": {
    "ExecuteTime": {
     "end_time": "2024-11-11T18:44:40.261857Z",
     "start_time": "2024-11-11T18:44:40.122773Z"
    }
   },
   "cell_type": "code",
   "source": [
    "seen = requests.get(api_config['blockchain_api']['root'] + 'q/addressfirstseen/' + str(max_addr)).json()\n",
    "seen_dt = datetime.datetime.utcfromtimestamp(seen)\n",
    "\n",
    "Markdown(f\"This address saw its first activity on the Bitcoin blockchain on \"\n",
    "         f\"{seen_dt.strftime('%d/%m/%y')} at {seen_dt.strftime('%H:%M')}.\")"
   ],
   "id": "b062516e7ea54fab",
   "outputs": [
    {
     "data": {
      "text/plain": [
       "<IPython.core.display.Markdown object>"
      ],
      "text/markdown": "This address saw its first activity on the Bitcoin blockchain on 06/08/21 at 06:32."
     },
     "execution_count": 147,
     "metadata": {},
     "output_type": "execute_result"
    }
   ],
   "execution_count": 147
  }
 ],
 "metadata": {
  "kernelspec": {
   "display_name": "Python 3",
   "language": "python",
   "name": "python3"
  },
  "language_info": {
   "codemirror_mode": {
    "name": "ipython",
    "version": 2
   },
   "file_extension": ".py",
   "mimetype": "text/x-python",
   "name": "python",
   "nbconvert_exporter": "python",
   "pygments_lexer": "ipython2",
   "version": "2.7.6"
  }
 },
 "nbformat": 4,
 "nbformat_minor": 5
}
