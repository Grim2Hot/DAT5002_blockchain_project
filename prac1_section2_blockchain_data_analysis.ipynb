{
 "cells": [
  {
   "cell_type": "code",
   "id": "initial_id",
   "metadata": {
    "collapsed": true,
    "ExecuteTime": {
     "end_time": "2024-11-15T16:52:14.093432Z",
     "start_time": "2024-11-15T16:52:14.087665Z"
    }
   },
   "source": [
    "import requests                         # For api get requests.\n",
    "import datetime                         # For converting UTX into readable DateTime.\n",
    "import toml                             # For interpreting Config file(s).\n",
    "import json                             # For interpreting mining pool data (\"pools.json\").\n",
    "import time                             # For safely managing API request timings to avoid getting timed out.\n",
    "from IPython.display import Markdown    # For improving visual experience of cell outputs.\n",
    "from json import JSONDecodeError        # For handling API request return issues.\n",
    "from collections import Counter         # For counting address transaction frequencies within a block."
   ],
   "outputs": [],
   "execution_count": 62
  },
  {
   "metadata": {
    "ExecuteTime": {
     "end_time": "2024-11-15T16:52:14.286147Z",
     "start_time": "2024-11-15T16:52:14.260106Z"
    }
   },
   "cell_type": "code",
   "source": [
    "# Import the api configuration string data.\n",
    "with open('blockchain_api_config.toml', 'r') as f:\n",
    "    api_config = toml.loads(f.read())"
   ],
   "id": "b0977e4d658f32f5",
   "outputs": [],
   "execution_count": 63
  },
  {
   "metadata": {
    "ExecuteTime": {
     "end_time": "2024-11-15T16:52:14.297803Z",
     "start_time": "2024-11-15T16:52:14.292419Z"
    }
   },
   "cell_type": "code",
   "source": [
    "# Import known mining pool addresses.\n",
    "with open('pools.json', 'r') as f:\n",
    "    mining_pools = json.load(f)"
   ],
   "id": "b885ca8af3834dc9",
   "outputs": [],
   "execution_count": 64
  },
  {
   "metadata": {},
   "cell_type": "markdown",
   "source": [
    "<h3>Note to examiners:</h3>\n",
    "<p>It is <b>highly recommended that you do not run this file.</b> The latter half of the project makes api calls many thousands of times as part of the logic to locate the highest wallet balance of all addresses who participated in transactions within the most recent block.</p>\n",
    "<br>\n",
    "<p>As a result, the script can take well over <b>40 minutes</b> to run in its entirety, depending on the number of transactions in the latest block.</p>"
   ],
   "id": "6a8781b80e917e83"
  },
  {
   "metadata": {},
   "cell_type": "markdown",
   "source": [
    "<h1>At the time of your writing, what is the height of the most recent block mined and what is the\n",
    "difficulty level?</h1>"
   ],
   "id": "37434587cb7db2b8"
  },
  {
   "metadata": {
    "ExecuteTime": {
     "end_time": "2024-11-15T16:52:14.361481Z",
     "start_time": "2024-11-15T16:52:14.357615Z"
    }
   },
   "cell_type": "code",
   "source": [
    "def get_difficulty(_hash : str) -> int:\n",
    "    \"\"\"\n",
    "    Gets the difficulty of a blockchain block in terms of the 0-requirement for a successful hash.\n",
    "    :param _hash: (str) The block hash.\n",
    "    :return: (int) The difficulty of the block.\n",
    "    \"\"\"\n",
    "    # Initialise return variable.\n",
    "    _difficulty : int = 0\n",
    "    \n",
    "    # Loop through the characters in the hash string received and count how many 0s. When a 0 isn't encountered, return _difficulty.\n",
    "    for _letter in _hash:\n",
    "        if _letter == \"0\":\n",
    "            _difficulty += 1\n",
    "            \n",
    "        else:\n",
    "            return _difficulty"
   ],
   "id": "3d25e80723ef9022",
   "outputs": [],
   "execution_count": 65
  },
  {
   "metadata": {
    "ExecuteTime": {
     "end_time": "2024-11-15T16:52:14.935365Z",
     "start_time": "2024-11-15T16:52:14.419987Z"
    }
   },
   "cell_type": "code",
   "source": [
    "# Get the latest block.\n",
    "latest_block = requests.get(api_config['latest_block']['root']).json()\n",
    "# Use the plaintext query 'getdifficulty' for getting the current abstract difficulty of the Bitcoin blockchain.\n",
    "hash_difficulty = requests.get(api_config['blockchain_api']['root'] + \"q/getdifficulty\").json()\n",
    "\n",
    "# We can easily access the height attribute in the json returned from our get request.\n",
    "height = latest_block['height']\n",
    "# Using my custom function, we can count how many 0's are required for a hash to be considered a valid block hash.\n",
    "difficulty = get_difficulty(latest_block['hash'])\n",
    "\n",
    "# Output the results.\n",
    "Markdown(f\"The height of the block is: <b>{height}</b>  \"\n",
    "         f\"\\nThe difficulty-level is: <b>{round(hash_difficulty/1000000000000, 2)} trillion</b>.  \"\n",
    "         f\"\\nThis is represented by <b>{difficulty}</b> initial '0' digits required for the hash of the block to be considered a successful hash.  \"\n",
    "         f\"\\nThe hash of the latest block at runtime is: <b>{latest_block['hash']}</b>\")"
   ],
   "id": "a96d2d0f0f954cb8",
   "outputs": [
    {
     "data": {
      "text/plain": [
       "<IPython.core.display.Markdown object>"
      ],
      "text/markdown": "The height of the block is: <b>870432</b>  \nThe difficulty-level is: <b>101.65 trillion</b>.  \nThis is represented by <b>19</b> initial '0' digits required for the hash of the block to be considered a successful hash.  \nThe hash of the latest block at runtime is: <b>0000000000000000000266da76f3c49b8f49772c172bf4d108231a01a5d0d72e</b>"
     },
     "execution_count": 66,
     "metadata": {},
     "output_type": "execute_result"
    }
   ],
   "execution_count": 66
  },
  {
   "metadata": {},
   "cell_type": "markdown",
   "source": [
    "<h1>What is the address of the miner of the block ? Can you unmask the identity of the\n",
    "address?</h1>"
   ],
   "id": "7e8c0d4643414b20"
  },
  {
   "metadata": {
    "ExecuteTime": {
     "end_time": "2024-11-15T16:52:14.941244Z",
     "start_time": "2024-11-15T16:52:14.935365Z"
    }
   },
   "cell_type": "code",
   "source": [
    "def get_miner_addr(_tx : dict) -> str:\n",
    "    \"\"\"\n",
    "    Takes a single transaction and returns the address of the miner.\n",
    "    :param _tx: (dict) Transaction to get the miner address from.\n",
    "    :return: (string) The address of the miner.\n",
    "    \"\"\"\n",
    "    \n",
    "    # Coinbase-transactions have \"dust\" outputs and OP_RETURN outputs.\n",
    "    # The dust outputs can fund specific purposes for the network like secondary layers, ...\n",
    "    #   OP_RETURN outputs can trigger script events by sending 0 satoshi to the wallet address, I believe.\n",
    "    # In either event, these transactions can muddy, from a code point of view, which address is our miner's address.\n",
    "    # To solve this, we need some simple logic to select the right address.\n",
    "    \n",
    "    # From what I have seen, the miner's address comes second in the list of output addresses, so we could just index that, ...\n",
    "    #   but just to be certain, this logic will make sure it's correct.\n",
    "    # This could be improved with some configuration for the mining reward, considering that is not a static value and changes ...\n",
    "    #   every halving, but for our purposes this fixed value will suffice.\n",
    "    \n",
    "    # Look through all the potential output wallet addresses.\n",
    "    for _out in _tx['out']:\n",
    "        \n",
    "        # If an address is available, and the value of satoshi in the transaction is equal to more than 3btc (current mining reward ~3.1btc) ...\n",
    "        #   then we want to return that address, since that is the address which was sent the block reward.\n",
    "        if (_out['addr']) and (int(_out['value']) > 300000000):\n",
    "            return str(_out['addr'])\n",
    "        \n",
    "        # If the output of this transaction we are currently looking at doesn't fulfill those requirements, ...\n",
    "        #   do the next iteration of the loop.\n",
    "        else:\n",
    "            pass\n",
    "        \n",
    "    print(\"Error finding address for output.\")"
   ],
   "id": "c1b3d1e7f40399c8",
   "outputs": [],
   "execution_count": 67
  },
  {
   "metadata": {
    "ExecuteTime": {
     "end_time": "2024-11-15T16:52:14.945844Z",
     "start_time": "2024-11-15T16:52:14.941244Z"
    }
   },
   "cell_type": "code",
   "source": [
    "def unmask_pool_name(_addr : str) -> str:\n",
    "    \"\"\"\n",
    "    Checks known addresses of mining pools and returns that name if it exists.\n",
    "    :param _addr: (str) Address of mining pool. Eg: 15MdAHnkxt9TMC2Rj595hsg8Hnv693pPBB\n",
    "    :return: (str) The name of the mining pool. Eg: Mara Pool.\n",
    "    \n",
    "    If pool name is not located, returns 'Unknown'\n",
    "    \"\"\"\n",
    "    \n",
    "    # Loop through our known payout addresses which are linked to known mining pools.\n",
    "    for _ in list(mining_pools['payout_addresses'].keys()):\n",
    "        # If the current address is the address we pass to the function, return the name of the mining pool.\n",
    "        if _addr == _:\n",
    "            return mining_pools['payout_addresses'][_]['name']\n",
    "        \n",
    "    else:\n",
    "        # If we cannot find the pool name, return 'Unknown', since that value seems to occupy 40+% of mined blocks.\n",
    "        return 'Unknown'"
   ],
   "id": "e6123b3c9f4e8c7c",
   "outputs": [],
   "execution_count": 68
  },
  {
   "metadata": {
    "ExecuteTime": {
     "end_time": "2024-11-15T16:52:15.094129Z",
     "start_time": "2024-11-15T16:52:14.946428Z"
    }
   },
   "cell_type": "code",
   "source": [
    "# Access our transaction data and locate the first transaction which is our coinbase transaction in BTC blockchain.\n",
    "txs = latest_block['txIndexes']\n",
    "tx = requests.get(api_config['single_transaction']['root'] + str(txs[0])).json()\n",
    "\n",
    "miner_addr = None\n",
    "\n",
    "# Slight error checking in the illogical case that a non-coinbase transaction is obtained instead.\n",
    "if len(tx['inputs']) == 1:\n",
    "    miner_addr = get_miner_addr(tx)\n",
    "else:\n",
    "    print(\"Error: Coinbase Transaction not the selected transaction\")\n",
    "    \n",
    "# See if we can identify if any known mining pools mined the block.\n",
    "pool_name = unmask_pool_name(miner_addr)\n",
    "\n",
    "Markdown(f\"The Miner's Address is: <b>{miner_addr}</b>  \"\n",
    "         f\"\\nThe pool name is <b>{pool_name}</b>.\")"
   ],
   "id": "76560aa8b438a079",
   "outputs": [
    {
     "data": {
      "text/plain": [
       "<IPython.core.display.Markdown object>"
      ],
      "text/markdown": "The Miner's Address is: <b>bc1qwzrryqr3ja8w7hnja2spmkgfdcgvqwp5swz4af4ngsjecfz0w0pqud7k38</b>  \nThe pool name is <b>Unknown</b>."
     },
     "execution_count": 69,
     "metadata": {},
     "output_type": "execute_result"
    }
   ],
   "execution_count": 69
  },
  {
   "metadata": {
    "ExecuteTime": {
     "end_time": "2024-11-15T16:52:15.099469Z",
     "start_time": "2024-11-15T16:52:15.094129Z"
    }
   },
   "cell_type": "code",
   "source": [
    "# Proof that the unmasking function does work with a known address which should return Mara Pool.\n",
    "# Here is proof it should return Mara Pool: https://www.blockchain.com/explorer/addresses/btc/15MdAHnkxt9TMC2Rj595hsg8Hnv693pPBB\n",
    "r = unmask_pool_name(\"15MdAHnkxt9TMC2Rj595hsg8Hnv693pPBB\")\n",
    "print(r)\n",
    "del r"
   ],
   "id": "18b34bf36de92b32",
   "outputs": [
    {
     "name": "stdout",
     "output_type": "stream",
     "text": [
      "MARA Pool\n"
     ]
    }
   ],
   "execution_count": 70
  },
  {
   "metadata": {},
   "cell_type": "markdown",
   "source": "<h1>How many transactions does it contain?</h1>",
   "id": "94902a2a24ddbd3d"
  },
  {
   "metadata": {
    "ExecuteTime": {
     "end_time": "2024-11-15T16:52:15.104881Z",
     "start_time": "2024-11-15T16:52:15.099469Z"
    }
   },
   "cell_type": "code",
   "source": [
    "# Since txs variable is a List type, we can just call the length of the list.\n",
    "tx_num = len(txs)\n",
    "\n",
    "Markdown(f\"The number of transactions in the most recent block is: <b>{tx_num}</b>\")"
   ],
   "id": "cbb0568d04e8698c",
   "outputs": [
    {
     "data": {
      "text/plain": [
       "<IPython.core.display.Markdown object>"
      ],
      "text/markdown": "The number of transactions in the most recent block is: <b>6585</b>"
     },
     "execution_count": 71,
     "metadata": {},
     "output_type": "execute_result"
    }
   ],
   "execution_count": 71
  },
  {
   "metadata": {},
   "cell_type": "markdown",
   "source": "<h1>Which address has the most balance?</h1>",
   "id": "8d403770a81ac34d"
  },
  {
   "metadata": {},
   "cell_type": "markdown",
   "source": [
    "<h3>Logic to solve this problem:</h3>\n",
    "\n",
    "<p>\n",
    "The issue presented by this question is that there is no endpoint for the blockchain api which gets the greatest balance of all addresses included within transactions of the block.\n",
    "<br>\n",
    "<p>\n",
    "To solve this issue, we will get transaction data on each transaction within a block using the transaction endpoint. This will take a long time, due to API latency and good API practice to not overwhelm the API endpoint. We could just take a random value sample of the block and find the greatest balance of all of those addresses, but this approach doesn't give us the literal greatest balance of the addresses within the block, so I will commit to getting data on all transactions on the block.\n",
    "</p>\n",
    "<p>\n",
    "<b>\n",
    "The Logic of my approach:\n",
    "</b>\n",
    "</p>\n",
    "<p>\n",
    "> Get our transaction data.<br>\n",
    "> Remove duplicate addresses so that we aren't sending balance requests for addresses multiple times.<br>\n",
    "> Rather than sending a balance API request for each address, concatenating addresses into chunks of 50 will send fewer requests.<br>\n",
    "> Look through each address of that chunk and check if the balance of that address is the greatest seen balance.<br>\n",
    "> If it is, we record the wallet address and the associated balance. Otherwise, we keep searching through chunks of addresses.<br>\n",
    "</p>\n",
    "<p>\n",
    "For better API handling, I will wrap the requests.get() function in a safe_requests() method which will attempt to handle response codes which indicate we are sending too many requests and use the time.sleep() function to control the sending of requests, such that we don't encounter more errors.\n",
    "</p>\n",
    "\n",
    "</p>"
   ],
   "id": "f371a56f969ef4a7"
  },
  {
   "metadata": {},
   "cell_type": "markdown",
   "source": "<i>Defining Functions</i>",
   "id": "292651099db92a59"
  },
  {
   "metadata": {},
   "cell_type": "code",
   "outputs": [
    {
     "ename": "SyntaxError",
     "evalue": "f-string: single '}' is not allowed (1610145407.py, line 36)",
     "output_type": "error",
     "traceback": [
      "\u001B[1;36m  Cell \u001B[1;32mIn[91], line 36\u001B[1;36m\u001B[0m\n\u001B[1;33m    print(f\"Unexpected Status Code: {response.status_code}}\")\u001B[0m\n\u001B[1;37m                                                            ^\u001B[0m\n\u001B[1;31mSyntaxError\u001B[0m\u001B[1;31m:\u001B[0m f-string: single '}' is not allowed\n"
     ]
    }
   ],
   "execution_count": 91,
   "source": [
    "def safe_request(url : str, retries : int = 3, wait : int = 2):\n",
    "    \"\"\"\n",
    "    Introduces error handling for API requests. Accounts for reaching max request limit and codes that aren't expected.\n",
    "    :param url: (str) The url to request.\n",
    "    :param retries: (int) The number of retries before giving up.\n",
    "    :param wait: (int) The number of seconds to wait between retries.\n",
    "    :return: (dict or None) The response or None if it fails.\n",
    "    \"\"\"\n",
    "    \n",
    "    # _attempt represents an attempt out of the number of attempts the function allows, default = 3.\n",
    "    for _attempt in range(retries):\n",
    "        \n",
    "        # We need try/catch blocks to stop errors disrupting the request process.\n",
    "        try:\n",
    "            response = requests.get(url)\n",
    "            \n",
    "            # If we get a positive get request status code, return the dict version of the response object.\n",
    "            if response.status_code == 200:\n",
    "                try:\n",
    "                    return response.json()\n",
    "                \n",
    "                # If we encounter a JSONDecodeError then we have had something wrong returned to us from the API.\n",
    "                except JSONDecodeError:\n",
    "                    print(\"Error with decoding JSON from parsed URL.\")\n",
    "                    return None\n",
    "            \n",
    "            # If we have a status code of 429, we have exceeded our limit of tries within this time period and need to wait.    \n",
    "            elif response.status_code == 429:\n",
    "                # Define our retry_after variable as what we are told to retry after by the response from the API.\n",
    "                retry_after = int(response.headers.get(\"Retry-After\", 1))\n",
    "                print(f\"Rate has been limited, retrying after {retry_after} seconds.\")\n",
    "                time.sleep(retry_after)\n",
    "            \n",
    "            # If neither of the status codes seen above are returned, print the debug help and move to the next attempt.    \n",
    "            else:\n",
    "                print(f\"Unexpected Status Code: {str(response.status_code)}\")\n",
    "        \n",
    "        # If our try block returns an exception that isn't the JSONDecodeError, we'll raise a RequestException here.       \n",
    "        except requests.exceptions.RequestException as e:\n",
    "            print(f\"Request Failed: {e}\")\n",
    "        \n",
    "        # If our try on this attempt fails, wait the sleep amount of time and retry.    \n",
    "        time.sleep(wait)\n",
    "    \n",
    "    return None\n",
    "            "
   ],
   "id": "4cfd750e05aaa628"
  },
  {
   "metadata": {
    "ExecuteTime": {
     "end_time": "2024-11-15T16:52:15.118495Z",
     "start_time": "2024-11-15T16:52:15.111064Z"
    }
   },
   "cell_type": "code",
   "source": [
    "def get_block_addresses(_current_block : dict, _in : bool) -> list:\n",
    "    \"\"\"\n",
    "    Takes the current block and finds all addresses referenced within the block; addresses who either sent btc (_in=True) or received btc (_in=False).\n",
    "    :param _current_block: (dict) The dictionary representing the current block.\n",
    "    :param _in: (bool) True if you want to look at transaction inputs. False if you want to look at transaction outputs.\n",
    "    :return: (list) Return a list of all the addresses of the given _in parameter.\n",
    "    \"\"\"\n",
    "    # Initialise key variables.\n",
    "    _addresses = []\n",
    "    _txs = _current_block['txIndexes']\n",
    "    \n",
    "    # If we are looking at addresses that sent money in the block:\n",
    "    if _in:\n",
    "        # Look through each transaction except our coinbase-transaction:\n",
    "        for _tx in _txs[1:]:\n",
    "            # Get the relevant transaction data.\n",
    "            _req = safe_request(api_config['single_transaction']['root'] + str(_tx))\n",
    "                \n",
    "            if not _req:\n",
    "                continue\n",
    "                \n",
    "            # For each input from transaction, add that address to our address variable to be returned by the function.\n",
    "            for _input in _req['inputs']:\n",
    "                _addresses.append(_input['prev_out']['addr'])\n",
    "    \n",
    "    # If we are looking at address that received money in the block:            \n",
    "    else:\n",
    "        # Look through each transaction:\n",
    "        for _tx in _txs:\n",
    "            # Get the relevant transaction data.\n",
    "            _req = safe_request(api_config['single_transaction']['root'] + str(_tx))\n",
    "            \n",
    "            if not _req:\n",
    "                continue\n",
    "                \n",
    "            # For each output from our list of outputs:\n",
    "            for _out in _req['out']:\n",
    "                \n",
    "                # If the value sent to that address is 0, it's for triggering scripts so ignore it.\n",
    "                if _out['value'] == 0:\n",
    "                    continue\n",
    "                # Otherwise, if there is an address value in the output data we're currently looking at:\n",
    "                elif 'addr' in _out.keys():\n",
    "                    # Add that address to our list of addresses to be returned.\n",
    "                    _addresses.append(_out['addr'])\n",
    "                else:\n",
    "                    continue\n",
    "                \n",
    "    return _addresses        "
   ],
   "id": "edd29e2778d50474",
   "outputs": [],
   "execution_count": 73
  },
  {
   "metadata": {
    "ExecuteTime": {
     "end_time": "2024-11-15T16:52:15.124839Z",
     "start_time": "2024-11-15T16:52:15.118495Z"
    }
   },
   "cell_type": "code",
   "source": [
    "def addresses_to_str(_addresses : list) -> str:\n",
    "    \"\"\"\n",
    "    Takes a list of addresses and converts it to a single string containing said addresses separated by pipes.\n",
    "    :param _addresses: (list) List of addresses to convert.\n",
    "    :return: (str) The string of all concatenated addresses separated by pipes.\n",
    "    \"\"\"\n",
    "    # Initialise our return string.\n",
    "    _rtrn_str : str = \"\"\n",
    "    \n",
    "    # For each address in our list:\n",
    "    for _addr in _addresses:\n",
    "        \n",
    "        # If this is the first time of the loop, insert the first address into the string.\n",
    "        if _rtrn_str == \"\":\n",
    "            _rtrn_str = str(_addr)\n",
    "        \n",
    "        # Otherwise, we need to concatenate the return string with our new address with a pipe delimiter.    \n",
    "        else:\n",
    "            _rtrn_str += \"|\" + str(_addr)\n",
    "            \n",
    "    return _rtrn_str"
   ],
   "id": "1fd05359d7bd06dd",
   "outputs": [],
   "execution_count": 74
  },
  {
   "metadata": {
    "ExecuteTime": {
     "end_time": "2024-11-15T16:52:15.130397Z",
     "start_time": "2024-11-15T16:52:15.124839Z"
    }
   },
   "cell_type": "code",
   "source": [
    "def chunk_addresses(_addresses : list, _chunk_size : int = 50) -> list:\n",
    "    \"\"\"\n",
    "    Takes a list of addresses and splits it into chunks of _chunk_size.\n",
    "    For example, if you pass a list of 1000 it will return blocks of addresses equal to _chunk_size, default 50.\n",
    "    \n",
    "    This function should only be used in a loop as it returns a generator that yields chunks of addresses.\n",
    "    \n",
    "    :param _addresses: (list) List of addresses to split.\n",
    "    :param _chunk_size: (int) The value of addresses to be grouped and returned.\n",
    "    :return: (list) Acts as a generator. Returns a list containing _chunk_size number of addresses. \n",
    "    \"\"\"\n",
    "    # From 0 to the number of addresses we have, iterate in steps equal to our _chunk_size variable (default at 50)\n",
    "    for i in range(0, len(_addresses), _chunk_size):\n",
    "        # Yield, for further iteration, the index slice of the addresses equal to our chunk size.\n",
    "        yield _addresses[i:i + _chunk_size]"
   ],
   "id": "4f561cf8caa1ef19",
   "outputs": [],
   "execution_count": 75
  },
  {
   "metadata": {
    "ExecuteTime": {
     "end_time": "2024-11-15T16:52:15.136893Z",
     "start_time": "2024-11-15T16:52:15.130397Z"
    }
   },
   "cell_type": "code",
   "source": [
    "def get_max_balance(_current_block : dict, _in : bool, _chunk_size : int = 50) -> dict:\n",
    "    \"\"\"\n",
    "    Takes the current block and finds the maximum balance of the addresses in the block.\n",
    "    :param _current_block: (dict) The dictionary representing the current block.\n",
    "    :param _in: (bool) True if you want to look at transaction inputs. False if you want to look at transaction outputs.\n",
    "    :param _chunk_size: (int) The value of addresses to be grouped and returned. Higher means more latency time but less compute time.\n",
    "    :return: (dict) The address which held the maximum balance as the key, and the maximum balance as the value.\n",
    "    \"\"\"\n",
    "    \n",
    "    # Get our list of addresses.\n",
    "    _addresses = get_block_addresses(_current_block, _in)\n",
    "    \n",
    "    # We get a lot of repeat addresses through the get_block_addresses() function.\n",
    "    # Since we aren't worried about transaction order, and we don't want to get the max balance for an address twice, ...\n",
    "    #   we can remove them to minimise api get requests.\n",
    "    _unique_addr = list(set(_addresses))\n",
    "    \n",
    "    # Initialise our important counter/container variables.\n",
    "    rtrn_dict : dict = {}\n",
    "    max_balance : float = 0.0\n",
    "    max_addr : str = \"\"\n",
    "    \n",
    "    # Iterate over our generator object returned from chunk_addresses() function.\n",
    "    for _addr_chunk in chunk_addresses(_unique_addr, _chunk_size):\n",
    "        # Turn our addresses into concatenated string which can be used in an api get request.\n",
    "        _address_str = addresses_to_str(_addr_chunk)\n",
    "        \n",
    "        # Get the balance request of multiple addresses using pipe delimiter.\n",
    "        balance_data = safe_request(api_config['balance']['root'] + _address_str)\n",
    "        \n",
    "        # For each address, look at the final balance of the address and see if it is the greatest value seen.\n",
    "        for _addr, _bal_info in balance_data.items():\n",
    "            balance = _bal_info['final_balance']\n",
    "            max_balance = max(max_balance, balance)\n",
    "            \n",
    "            # If the max_balance is the balance for the current address, store that address.\n",
    "            if balance == max_balance:\n",
    "                max_addr = _addr\n",
    "    \n",
    "    \n",
    "    rtrn_dict[max_addr] = max_balance        \n",
    "            \n",
    "    return rtrn_dict"
   ],
   "id": "2f8294d50a786002",
   "outputs": [],
   "execution_count": 76
  },
  {
   "metadata": {
    "ExecuteTime": {
     "end_time": "2024-11-15T16:52:15.141801Z",
     "start_time": "2024-11-15T16:52:15.136893Z"
    }
   },
   "cell_type": "code",
   "source": [
    "def get_exchange_rates() -> dict:\n",
    "    # Very simply gets exchangerates from the blockchain.\n",
    "    return requests.get(\"https://blockchain.info/ticker\").json()"
   ],
   "id": "688e2ec9962c81cb",
   "outputs": [],
   "execution_count": 77
  },
  {
   "metadata": {
    "ExecuteTime": {
     "end_time": "2024-11-15T16:52:15.147243Z",
     "start_time": "2024-11-15T16:52:15.141801Z"
    }
   },
   "cell_type": "code",
   "source": [
    "def calc_currency_conversion(_exchange_data : dict, _currency : list, _btc : float) -> float:\n",
    "    \"\"\"\n",
    "    Takes the exchange rate data and calculates the currency conversion.\n",
    "    :param _exchange_data: (dict) The exchange rate data.\n",
    "    :param _currency: (list) The currency to convert and crucially the time period for the data.\n",
    "    :param _btc: (float) The btc value to convert. Crucially, not in satoshi.\n",
    "    :return: (float) The currency conversion.\n",
    "    \"\"\"\n",
    "    return _btc * int(_exchange_data[_currency[0]][_currency[1]])"
   ],
   "id": "6afa5501afa05e30",
   "outputs": [],
   "execution_count": 78
  },
  {
   "metadata": {
    "ExecuteTime": {
     "end_time": "2024-11-15T16:52:15.151332Z",
     "start_time": "2024-11-15T16:52:15.147243Z"
    }
   },
   "cell_type": "code",
   "source": [
    "def format_float_to_str(_float : float) -> str:\n",
    "    # Converts a float value to string using string formatting.\n",
    "    return \"{:,.2f}\".format(_float)"
   ],
   "id": "148afcad17be0293",
   "outputs": [],
   "execution_count": 79
  },
  {
   "metadata": {},
   "cell_type": "markdown",
   "source": "<i>End of defining functions</i>",
   "id": "391dea28141bfe6b"
  },
  {
   "metadata": {
    "ExecuteTime": {
     "end_time": "2024-11-15T16:52:15.265420Z",
     "start_time": "2024-11-15T16:52:15.152348Z"
    }
   },
   "cell_type": "code",
   "source": [
    "# Gather exchange-rate data.\n",
    "exchange_data = get_exchange_rates()"
   ],
   "id": "995445b4cd87bb61",
   "outputs": [],
   "execution_count": 80
  },
  {
   "metadata": {
    "ExecuteTime": {
     "end_time": "2024-11-15T17:11:28.060866Z",
     "start_time": "2024-11-15T16:52:15.265420Z"
    }
   },
   "cell_type": "code",
   "source": [
    "# Get the address with the highest balance, out of all the addresses that sent money in transactions within the current block.\n",
    "in_max = get_max_balance(latest_block, True, 50)\n",
    "\n",
    "# This cell may output 'Unexpected Status Code' but this is part of the safe_request() method and part of the retrying process."
   ],
   "id": "bbb7e50da4fe56bf",
   "outputs": [
    {
     "name": "stdout",
     "output_type": "stream",
     "text": [
      "Unexpected Status Code.\n",
      "Unexpected Status Code.\n",
      "Unexpected Status Code.\n",
      "Unexpected Status Code.\n"
     ]
    }
   ],
   "execution_count": 81
  },
  {
   "metadata": {
    "ExecuteTime": {
     "end_time": "2024-11-15T17:11:28.080274Z",
     "start_time": "2024-11-15T17:11:28.074319Z"
    }
   },
   "cell_type": "code",
   "source": [
    "# Unpack the dictionary of wallet_address : balance.\n",
    "in_max_addr, in_max_balance = next(iter(in_max.items()))\n",
    "\n",
    "# Just to clarify the logic of the line above:\n",
    "#   in_max.items() returns a view object which will show, in tuple format, the data available in the in_max dict.\n",
    "#   iter(in_max.items()) creates an iterable object which includes the tuples within the view object.\n",
    "#   next(iter(in_max.items())) calls the next tuple (the first and only tuple) and returns that.\n",
    "#   Since we only have one key-value pair in the dictionary, we can simply unpack this tuple to get our address and btc balance of that address.\n",
    "# I have chosen this over multiple lines of code which call the values() and keys() methods separately for brevity's sake."
   ],
   "id": "86fc9b7237bd6eab",
   "outputs": [],
   "execution_count": 82
  },
  {
   "metadata": {
    "ExecuteTime": {
     "end_time": "2024-11-15T17:11:28.088712Z",
     "start_time": "2024-11-15T17:11:28.080999Z"
    }
   },
   "cell_type": "code",
   "source": [
    "# Turn the satoshi balance returned by the get_max_balance() function into btc.\n",
    "in_max_btc = in_max_balance / 100000000\n",
    "\n",
    "# Find the converted value of the btc into USD using current exchange-rate data.\n",
    "in_max_usd = calc_currency_conversion(exchange_data, [\"USD\", \"15m\"], in_max_btc)\n",
    "\n",
    "# Format the result using more human-readable friendly approach.\n",
    "in_max_usd_f = format_float_to_str(in_max_usd)\n",
    "\n",
    "# Output the results.\n",
    "Markdown(f\"Max btc balance of addresses who sent money in this block is: <b>{in_max_btc}</b>  \"\n",
    "         f\"\\nThe USD conversion equates to: <b>${in_max_usd_f}</b>  \"\n",
    "         f\"\\nThe address with this value of bitcoin was: <b>{in_max_addr}</b>\")"
   ],
   "id": "ed181205c3c3e4e1",
   "outputs": [
    {
     "data": {
      "text/plain": [
       "<IPython.core.display.Markdown object>"
      ],
      "text/markdown": "Max btc balance of addresses who sent money in this block is: <b>20427.30867759</b>  \nThe USD conversion equates to: <b>$1,825,323,021.50</b>  \nThe address with this value of bitcoin was: <b>bc1qm34lsc65zpw79lxes69zkqmk6ee3ewf0j77s3h</b>"
     },
     "execution_count": 83,
     "metadata": {},
     "output_type": "execute_result"
    }
   ],
   "execution_count": 83
  },
  {
   "metadata": {
    "ExecuteTime": {
     "end_time": "2024-11-15T17:30:58.145257Z",
     "start_time": "2024-11-15T17:11:28.089216Z"
    }
   },
   "cell_type": "code",
   "source": [
    "# Same process as before, but for wallet addresses which received btc in transactions in the current block.\n",
    "out_max = get_max_balance(latest_block, False, 50)\n",
    "\n",
    "# This cell may output 'Unexpected Status Code' but this is part of the safe_request() method and part of the retrying process."
   ],
   "id": "c105052cf78af1aa",
   "outputs": [],
   "execution_count": 84
  },
  {
   "metadata": {
    "ExecuteTime": {
     "end_time": "2024-11-15T17:30:58.149525Z",
     "start_time": "2024-11-15T17:30:58.145257Z"
    }
   },
   "cell_type": "code",
   "source": [
    "# Unpack our address and max balance. Reference 3 cells above for a breakdown of the logic of this cell.\n",
    "out_max_addr, out_max_balance = next(iter(out_max.items()))"
   ],
   "id": "4fbccea84569de74",
   "outputs": [],
   "execution_count": 85
  },
  {
   "metadata": {
    "ExecuteTime": {
     "end_time": "2024-11-15T17:30:58.156544Z",
     "start_time": "2024-11-15T17:30:58.149525Z"
    }
   },
   "cell_type": "code",
   "source": [
    "# Turn satoshi into btc, convert it into USD using exchange-rate data and format it for human consumption, as before.\n",
    "out_max_btc = out_max_balance / 100000000\n",
    "out_max_usd = calc_currency_conversion(exchange_data, [\"USD\", \"15m\"], out_max_btc)\n",
    "out_max_usd_f = format_float_to_str(out_max_usd)\n",
    "\n",
    "# Output the results.\n",
    "Markdown(f\"Max btc balance of addresses who received money in this block is: <b>{out_max_btc}</b>  \"\n",
    "         f\"\\nThe USD conversion equates to: <b>${out_max_usd_f}</b>  \"\n",
    "         f\"\\nThe address with this value of bitcoin was: <b>{out_max_addr}</b>\")"
   ],
   "id": "c708438adcb96d9b",
   "outputs": [
    {
     "data": {
      "text/plain": [
       "<IPython.core.display.Markdown object>"
      ],
      "text/markdown": "Max btc balance of addresses who received money in this block is: <b>19885.40971951</b>  \nThe USD conversion equates to: <b>$1,776,900,556.31</b>  \nThe address with this value of bitcoin was: <b>bc1qm34lsc65zpw79lxes69zkqmk6ee3ewf0j77s3h</b>"
     },
     "execution_count": 86,
     "metadata": {},
     "output_type": "execute_result"
    }
   ],
   "execution_count": 86
  },
  {
   "metadata": {
    "ExecuteTime": {
     "end_time": "2024-11-15T17:30:58.164280Z",
     "start_time": "2024-11-15T17:30:58.157515Z"
    }
   },
   "cell_type": "code",
   "source": [
    "# We have obtained the greatest value of the addresses who sent bitcoin and the addresses which received bitcoin.\n",
    "# Now we have to determine which is greatest out of all of them and print that value and address.\n",
    "\n",
    "# For assertions, Markdown() can't be used, or at least I had issues with it, so here I have to print to terminal.\n",
    "if out_max_btc > in_max_btc:\n",
    "    print(f\"Therefor, the address with the greatest input balance is {out_max_addr} with {out_max_btc} btc. They sent the most money in this block.\")\n",
    "    \n",
    "elif in_max_btc > out_max_btc:\n",
    "    print(f\"Therefor, the address with the greatest balance is {in_max_addr} with {in_max_btc} btc. They received the most money in this block.\")\n",
    "    \n",
    "else:\n",
    "    print(f\"The input and output addresses with the greatest balance in this block had the same value!\\n\"\n",
    "          f\"The addresses tied with {in_max_btc} btc\\n\"\n",
    "          f\"The addresses were: {in_max_addr} and {out_max_addr}\")"
   ],
   "id": "dee980b0861dbc19",
   "outputs": [
    {
     "name": "stdout",
     "output_type": "stream",
     "text": [
      "Therefor, the address with the greatest balance is bc1qm34lsc65zpw79lxes69zkqmk6ee3ewf0j77s3h with 20427.30867759 btc\n"
     ]
    }
   ],
   "execution_count": 87
  },
  {
   "metadata": {},
   "cell_type": "markdown",
   "source": "<h1>Which address has most number of transactions?</h1>",
   "id": "cee3fd132f1fa35a"
  },
  {
   "metadata": {
    "ExecuteTime": {
     "end_time": "2024-11-15T18:07:23.337596Z",
     "start_time": "2024-11-15T17:30:58.165506Z"
    }
   },
   "cell_type": "code",
   "source": [
    "# We can call the get_block_addresses() method again here with the True and False _in parameters to get all transaction data within the block.\n",
    "total_addr = get_block_addresses(latest_block, True)\n",
    "total_addr += get_block_addresses(latest_block, False)\n",
    "\n",
    "# This cell may output 'Unexpected Status Code' but this is part of the safe_request() method and part of the retrying process."
   ],
   "id": "31892415cfccca5",
   "outputs": [],
   "execution_count": 88
  },
  {
   "metadata": {
    "ExecuteTime": {
     "end_time": "2024-11-15T18:07:23.361174Z",
     "start_time": "2024-11-15T18:07:23.340950Z"
    }
   },
   "cell_type": "code",
   "source": [
    "# Python has a built-in Counter object which is perfect for iterable objects like our string.\n",
    "#   Counter(total_addr) will return the number of times an address in our total_addr list is reference.\n",
    "#       Like this: {\"bc1qr4dl5wa7kl8yu792dceg9z5knl2gkn220lk7a9\" : 3, \"wallet_address...\" : 17, ...}\n",
    "addr_count = Counter(total_addr)\n",
    "\n",
    "# We can use the Counter().most_common(n) method to get n most common occurrences from our Counter object.\n",
    "#   .most_common(n) returns a list of tuples, and we will only have 1 tuple, so we need to index the list with [0] to unpack our tuple.\n",
    "max_addr, max_count = addr_count.most_common(1)[0]\n",
    "\n",
    "Markdown(f\"The address with the most transactions in this block was: {max_addr}  \"\n",
    "         f\"\\nThey were involved in transactions (potentially as both senders and receivers) a total of {max_count} times in this block!\")"
   ],
   "id": "a3a17a0ad59730a5",
   "outputs": [
    {
     "data": {
      "text/plain": [
       "<IPython.core.display.Markdown object>"
      ],
      "text/markdown": "The address with the most transactions in this block was: bc1p22y8nq8tx2w4tv0lgnlzf9vammdarpcv43kmh4ttkkka388t5g6s6mh50x  \nThey were involved in transactions (potentially as both senders and receivers) a total of 2243 times in this block!"
     },
     "execution_count": 89,
     "metadata": {},
     "output_type": "execute_result"
    }
   ],
   "execution_count": 89
  },
  {
   "metadata": {},
   "cell_type": "markdown",
   "source": "<h1>When did this address become active? (first transaction on the network)</h1>",
   "id": "b836c49cd7e59f0b"
  },
  {
   "metadata": {
    "ExecuteTime": {
     "end_time": "2024-11-15T18:07:23.541086Z",
     "start_time": "2024-11-15T18:07:23.361174Z"
    }
   },
   "cell_type": "code",
   "source": [
    "# blockchain.com/api has an endpoint for this in its plaintext query api.\n",
    "# We can pass an address to the addressfirstseen endpoint, and it will return a UTC timestamp of when the address was first seen on the blockchain.\n",
    "seen = requests.get(api_config['blockchain_api']['root'] + 'q/addressfirstseen/' + str(max_addr)).json()\n",
    "\n",
    "# Convert the UTC timestamp to datetime object for string formatting.\n",
    "seen_dt = datetime.datetime.utcfromtimestamp(seen)\n",
    "\n",
    "# Output our results.\n",
    "Markdown(f\"This address saw its first activity on the Bitcoin blockchain on \"\n",
    "         f\"{seen_dt.strftime('%d/%m/%y')} at {seen_dt.strftime('%H:%M')}.\")"
   ],
   "id": "b062516e7ea54fab",
   "outputs": [
    {
     "data": {
      "text/plain": [
       "<IPython.core.display.Markdown object>"
      ],
      "text/markdown": "This address saw its first activity on the Bitcoin blockchain on 04/02/24 at 14:03."
     },
     "execution_count": 90,
     "metadata": {},
     "output_type": "execute_result"
    }
   ],
   "execution_count": 90
  }
 ],
 "metadata": {
  "kernelspec": {
   "display_name": "Python 3",
   "language": "python",
   "name": "python3"
  },
  "language_info": {
   "codemirror_mode": {
    "name": "ipython",
    "version": 2
   },
   "file_extension": ".py",
   "mimetype": "text/x-python",
   "name": "python",
   "nbconvert_exporter": "python",
   "pygments_lexer": "ipython2",
   "version": "2.7.6"
  }
 },
 "nbformat": 4,
 "nbformat_minor": 5
}
