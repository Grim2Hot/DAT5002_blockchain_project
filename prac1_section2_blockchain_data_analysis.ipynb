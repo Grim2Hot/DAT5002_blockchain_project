{
 "cells": [
  {
   "cell_type": "code",
   "id": "initial_id",
   "metadata": {
    "collapsed": true,
    "ExecuteTime": {
     "end_time": "2024-11-15T12:15:39.093521Z",
     "start_time": "2024-11-15T12:15:38.959550Z"
    }
   },
   "source": [
    "import requests                         # For api get requests.\n",
    "import datetime                         # For converting UTX into readable DateTime.\n",
    "import toml                             # For interpreting Config file(s).\n",
    "import json                             # For interpreting mining pool data (\"pools.json\").\n",
    "from IPython.display import Markdown    # For improving visual experience of cell outputs.\n",
    "from collections import Counter         # For counting address frequencies within a block."
   ],
   "outputs": [],
   "execution_count": 1
  },
  {
   "metadata": {
    "ExecuteTime": {
     "end_time": "2024-11-15T12:15:39.107464Z",
     "start_time": "2024-11-15T12:15:39.093521Z"
    }
   },
   "cell_type": "code",
   "source": [
    "# Import the api configuration string data.\n",
    "with open('blockchain_api_config.toml', 'r') as f:\n",
    "    api_config = toml.loads(f.read())"
   ],
   "id": "b0977e4d658f32f5",
   "outputs": [],
   "execution_count": 2
  },
  {
   "metadata": {
    "ExecuteTime": {
     "end_time": "2024-11-15T12:15:39.136371Z",
     "start_time": "2024-11-15T12:15:39.107464Z"
    }
   },
   "cell_type": "code",
   "source": [
    "# Import known mining pool addresses.\n",
    "with open('pools.json', 'r') as f:\n",
    "    mining_pools = json.load(f)"
   ],
   "id": "b885ca8af3834dc9",
   "outputs": [],
   "execution_count": 3
  },
  {
   "metadata": {},
   "cell_type": "markdown",
   "source": [
    "<h3>Note to examiners:</h3>\n",
    "<p>It is highly recommended that you do not run this file. The latter half of the project makes api calls many thousands of times as part of the logic to locate the highest wallet balance of all addresses who participated in transactions within the most recent block.</p>\n",
    "<br>\n",
    "<p>As a result, the script can take over <b>30 minutes</b> to run in its entirety, depending on the number of transactions in the latest block.</p>"
   ],
   "id": "6a8781b80e917e83"
  },
  {
   "metadata": {},
   "cell_type": "markdown",
   "source": [
    "<h1>At the time of your writing, what is the height of the most recent block mined and what is the\n",
    "difficulty level?</h1>"
   ],
   "id": "37434587cb7db2b8"
  },
  {
   "metadata": {
    "ExecuteTime": {
     "end_time": "2024-11-15T12:15:39.140047Z",
     "start_time": "2024-11-15T12:15:39.136371Z"
    }
   },
   "cell_type": "code",
   "source": [
    "def get_difficulty(_hash : str) -> int:\n",
    "    \"\"\"\n",
    "    Gets the difficulty of a blockchain block in terms of the 0-requirement for a successful hash.\n",
    "    :param _hash: (str) The block hash.\n",
    "    :return: (int) The difficulty of the block.\n",
    "    \"\"\"\n",
    "    # Initialise return variable.\n",
    "    _difficulty : int = 0\n",
    "    \n",
    "    # Loop through the characters in the hash string received and count how many 0s. When a 0 isn't encountered, return _difficulty.\n",
    "    for _letter in _hash:\n",
    "        if _letter == \"0\":\n",
    "            _difficulty += 1\n",
    "            \n",
    "        else:\n",
    "            return _difficulty"
   ],
   "id": "3d25e80723ef9022",
   "outputs": [],
   "execution_count": 4
  },
  {
   "metadata": {
    "ExecuteTime": {
     "end_time": "2024-11-15T12:15:39.628502Z",
     "start_time": "2024-11-15T12:15:39.142109Z"
    }
   },
   "cell_type": "code",
   "source": [
    "# Get the latest block.\n",
    "latest_block = requests.get(api_config['latest_block']['root']).json()\n",
    "# Use the plaintext query 'getdifficulty' for getting the current abstract difficulty of the Bitcoin blockchain.\n",
    "hash_difficulty = requests.get(api_config['blockchain_api']['root'] + \"q/getdifficulty\").json()\n",
    "\n",
    "# We can easily access the height attribute in the json returned from our get request.\n",
    "height = latest_block['height']\n",
    "# Using my custom function, we can count how many 0's are required for a hash to be considered a valid block hash.\n",
    "difficulty = get_difficulty(latest_block['hash'])\n",
    "\n",
    "# Output the results.\n",
    "Markdown(f\"The height of the block is: <b>{height}</b>  \"\n",
    "         f\"\\nThe difficulty-level is: <b>{round(hash_difficulty/1000000000000, 2)} trillion</b>.  \"\n",
    "         f\"\\nThis is represented by <b>{difficulty}</b> initial '0' digits required for the hash of the block to be considered a successful hash.  \"\n",
    "         f\"\\nThe hash of the latest block is: <b>{latest_block['hash']}</b>\")"
   ],
   "id": "a96d2d0f0f954cb8",
   "outputs": [
    {
     "data": {
      "text/plain": [
       "<IPython.core.display.Markdown object>"
      ],
      "text/markdown": "The height of the block is: <b>870404</b>  \nThe difficulty-level is: <b>101.65 trillion</b>.  \nThis is represented by <b>19</b> initial '0' digits required for the hash of the block to be considered a successful hash.  \nThe hash of the latest block is: <b>0000000000000000000124b39fbec4bef7327e57c8e9af58d79e0536a4cd78da</b>"
     },
     "execution_count": 5,
     "metadata": {},
     "output_type": "execute_result"
    }
   ],
   "execution_count": 5
  },
  {
   "metadata": {},
   "cell_type": "markdown",
   "source": [
    "<h1>What is the address of the miner of the block ? Can you unmask the identity of the\n",
    "address?</h1>"
   ],
   "id": "7e8c0d4643414b20"
  },
  {
   "metadata": {
    "ExecuteTime": {
     "end_time": "2024-11-15T13:03:25.951215Z",
     "start_time": "2024-11-15T13:03:25.939065Z"
    }
   },
   "cell_type": "code",
   "source": [
    "def get_miner_addr(_tx : dict) -> str:\n",
    "    \"\"\"\n",
    "    Takes a single transaction and returns the address of the miner.\n",
    "    :param _tx: (dict) Transaction to get the miner address from.\n",
    "    :return: (string) The address of the miner.\n",
    "    \"\"\"\n",
    "    \n",
    "    # Coinbase-transactions have \"dust\" outputs and OP_RETURN outputs.\n",
    "    # The dust outputs can fund specific purposes for the network like secondary layers, ...\n",
    "    #   OP_RETURN outputs can trigger script events by sending 0 satoshi to the wallet address, I believe.\n",
    "    # In either event, these transactions can muddy, from a code point of view, which address is our miner's address.\n",
    "    # To solve this, we need some simple logic to select the right address.\n",
    "    \n",
    "    # From what I have seen, the miner's address comes second in the list of output addresses, so we could just index that, ...\n",
    "    #   but just to be certain, this logic will make sure it's correct.\n",
    "    # This could be improved with some configuration for the mining reward, considering that is not a static value and changes ...\n",
    "    #   every halving, but for our purposes this fixed value will suffice.\n",
    "    \n",
    "    # Look through all the potential output wallet addresses.\n",
    "    for _out in _tx['out']:\n",
    "        \n",
    "        # If an address is available, and the value of satoshi in the transaction is equal to more than 3btc (current mining reward ~3.1btc) ...\n",
    "        #   then we want to return that address, since that is the address which was sent the block reward.\n",
    "        if (_out['addr']) and (int(_out['value']) > 300000000):\n",
    "            return str(_out['addr'])\n",
    "        \n",
    "        # If the output of this transaction we are currently looking at doesn't fulfill those requirements, ...\n",
    "        #   do the next iteration of the loop.\n",
    "        else:\n",
    "            pass\n",
    "        \n",
    "    print(\"Error finding address for output.\")"
   ],
   "id": "c1b3d1e7f40399c8",
   "outputs": [],
   "execution_count": 40
  },
  {
   "metadata": {
    "ExecuteTime": {
     "end_time": "2024-11-15T12:15:39.636958Z",
     "start_time": "2024-11-15T12:15:39.633569Z"
    }
   },
   "cell_type": "code",
   "source": [
    "def unmask_pool_name(_addr : str) -> str:\n",
    "    \"\"\"\n",
    "    Checks known addresses of mining pools and returns that name if it exists.\n",
    "    :param _addr: (str) Address of mining pool. Eg: 15MdAHnkxt9TMC2Rj595hsg8Hnv693pPBB\n",
    "    :return: (str) The name of the mining pool. Eg: Mara Pool.\n",
    "    \n",
    "    If pool name is not located, returns 'Unknown'\n",
    "    \"\"\"\n",
    "    \n",
    "    # Loop through our known payout addresses which are linked to known mining pools.\n",
    "    for _ in list(mining_pools['payout_addresses'].keys()):\n",
    "        # If the current address is the address we pass to the function, return the name of the mining pool.\n",
    "        if _addr == _:\n",
    "            return mining_pools['payout_addresses'][_]['name']\n",
    "        \n",
    "    else:\n",
    "        # If we cannot find the pool name, return 'Unknown', since that value seems to occupy 40+% of mined blocks.\n",
    "        return 'Unknown'"
   ],
   "id": "e6123b3c9f4e8c7c",
   "outputs": [],
   "execution_count": 7
  },
  {
   "metadata": {
    "ExecuteTime": {
     "end_time": "2024-11-15T13:03:47.517479Z",
     "start_time": "2024-11-15T13:03:47.322892Z"
    }
   },
   "cell_type": "code",
   "source": [
    "# Access our transaction data and locate the first transaction which is our coinbase transaction in BTC blockchain.\n",
    "txs = latest_block['txIndexes']\n",
    "tx = requests.get(api_config['single_transaction']['root'] + str(txs[0])).json()\n",
    "\n",
    "miner_addr = None\n",
    "\n",
    "# Slight error checking in the illogical case that a non-coinbase transaction is obtained instead.\n",
    "if len(tx['inputs']) == 1:\n",
    "    miner_addr = get_miner_addr(tx)\n",
    "else:\n",
    "    print(\"Error: Coinbase Transaction not the selected transaction\")\n",
    "    \n",
    "# See if we can identify if any known mining pools mined the block.\n",
    "pool_name = unmask_pool_name(miner_addr)\n",
    "\n",
    "Markdown(f\"The Miner's Address is: <b>{miner_addr}</b>  \"\n",
    "         f\"\\nThe pool name is <b>{pool_name}</b>.\")"
   ],
   "id": "76560aa8b438a079",
   "outputs": [
    {
     "data": {
      "text/plain": [
       "<IPython.core.display.Markdown object>"
      ],
      "text/markdown": "The Miner's Address is: <b>1KGG9kvV5zXiqyQAMfY32sGt9eFLMmgpgX</b>  \nThe pool name is <b>Unknown</b>."
     },
     "execution_count": 42,
     "metadata": {},
     "output_type": "execute_result"
    }
   ],
   "execution_count": 42
  },
  {
   "metadata": {
    "ExecuteTime": {
     "end_time": "2024-11-15T12:15:39.794492Z",
     "start_time": "2024-11-15T12:15:39.788933Z"
    }
   },
   "cell_type": "code",
   "source": [
    "# Proof that the unmasking function does work with a known address which should return Mara Pool.\n",
    "# Here is proof it should return Mara Pool: https://www.blockchain.com/explorer/addresses/btc/15MdAHnkxt9TMC2Rj595hsg8Hnv693pPBB\n",
    "r = unmask_pool_name(\"15MdAHnkxt9TMC2Rj595hsg8Hnv693pPBB\")\n",
    "print(r)\n",
    "del r"
   ],
   "id": "18b34bf36de92b32",
   "outputs": [
    {
     "name": "stdout",
     "output_type": "stream",
     "text": [
      "MARA Pool\n"
     ]
    }
   ],
   "execution_count": 9
  },
  {
   "metadata": {},
   "cell_type": "markdown",
   "source": "<h1>How many transactions does it contain?</h1>",
   "id": "94902a2a24ddbd3d"
  },
  {
   "metadata": {
    "ExecuteTime": {
     "end_time": "2024-11-15T12:15:39.800846Z",
     "start_time": "2024-11-15T12:15:39.794492Z"
    }
   },
   "cell_type": "code",
   "source": [
    "# Since txs variable is a List type, we can just call the length of the list.\n",
    "tx_num = len(txs)\n",
    "\n",
    "Markdown(f\"The number of transactions in the most recent block is: <b>{tx_num}</b>\")"
   ],
   "id": "cbb0568d04e8698c",
   "outputs": [
    {
     "data": {
      "text/plain": [
       "<IPython.core.display.Markdown object>"
      ],
      "text/markdown": "The number of transactions in the most recent block is: <b>3138</b>"
     },
     "execution_count": 10,
     "metadata": {},
     "output_type": "execute_result"
    }
   ],
   "execution_count": 10
  },
  {
   "metadata": {},
   "cell_type": "markdown",
   "source": "<h1>Which address has the most balance?</h1>",
   "id": "8d403770a81ac34d"
  },
  {
   "metadata": {},
   "cell_type": "markdown",
   "source": "Perhaps explanation/pseudocode/logic here as to the approach to get the most balance?",
   "id": "f1e7c16936dd0e7e"
  },
  {
   "metadata": {},
   "cell_type": "markdown",
   "source": "<i>Defining Functions</i>",
   "id": "292651099db92a59"
  },
  {
   "metadata": {
    "ExecuteTime": {
     "end_time": "2024-11-15T12:15:39.806730Z",
     "start_time": "2024-11-15T12:15:39.800846Z"
    }
   },
   "cell_type": "code",
   "source": [
    "def get_block_addresses(_current_block : dict, _in : bool) -> list:\n",
    "    \"\"\"\n",
    "    Takes the current block and finds all addresses referenced within the block; addresses who either sent btc (_in=True) or received btc (_in=False).\n",
    "    :param _current_block: (dict) The dictionary representing the current block.\n",
    "    :param _in: (bool) True if you want to look at transaction inputs. False if you want to look at transaction outputs.\n",
    "    :return: (list) Return a list of all the addresses of the given _in parameter.\n",
    "    \"\"\"\n",
    "    # Initialise key variables.\n",
    "    _addresses = []\n",
    "    _txs = _current_block['txIndexes']\n",
    "    \n",
    "    # If we are looking at addresses that sent money in the block:\n",
    "    if _in:\n",
    "        # Look through each transaction except our coinbase-transaction:\n",
    "        for _tx in _txs[1:]:\n",
    "            # Get the relevant transaction data.\n",
    "            _req = requests.get(api_config['single_transaction']['root'] + str(_tx)).json()\n",
    "            \n",
    "            # For each input from transaction, add that address to our address variable to be returned by the function.\n",
    "            for _input in _req['inputs']:\n",
    "                _addresses.append(_input['prev_out']['addr'])\n",
    "    \n",
    "    # If we are looking at address that received money in the block:            \n",
    "    else:\n",
    "        # Look through each transaction:\n",
    "        for _tx in _txs:\n",
    "            # Get the relevant transaction data.\n",
    "            _req = requests.get(api_config['single_transaction']['root'] + str(_tx)).json()\n",
    "            \n",
    "            # For each output from our list of outputs:\n",
    "            for _out in _req['out']:\n",
    "                \n",
    "                # If the value sent to that address is 0, it's for triggering scripts so ignore it.\n",
    "                if _out['value'] == 0:\n",
    "                    continue\n",
    "                # Otherwise, if there is an address value in the output data we're currently looking at:\n",
    "                elif 'addr' in _out.keys():\n",
    "                    # Add that address to our list of addresses to be returned.\n",
    "                    _addresses.append(_out['addr'])\n",
    "                else:\n",
    "                    continue\n",
    "                \n",
    "    return _addresses        "
   ],
   "id": "edd29e2778d50474",
   "outputs": [],
   "execution_count": 11
  },
  {
   "metadata": {
    "ExecuteTime": {
     "end_time": "2024-11-15T12:15:39.812410Z",
     "start_time": "2024-11-15T12:15:39.808645Z"
    }
   },
   "cell_type": "code",
   "source": [
    "def addresses_to_str(_addresses : list) -> str:\n",
    "    \"\"\"\n",
    "    Takes a list of addresses and converts it to a single string containing said addresses separated by pipes.\n",
    "    :param _addresses: (list) List of addresses to convert.\n",
    "    :return: (str) The string of all concatenated addresses separated by pipes.\n",
    "    \"\"\"\n",
    "    # Initialise our return string.\n",
    "    _rtrn_str : str = \"\"\n",
    "    \n",
    "    # For each address in our list:\n",
    "    for _addr in _addresses:\n",
    "        \n",
    "        # If this is the first time of the loop, insert the first address into the string.\n",
    "        if _rtrn_str == \"\":\n",
    "            _rtrn_str = str(_addr)\n",
    "        \n",
    "        # Otherwise, we need to concatenate the return string with our new address with a pipe delimiter.    \n",
    "        else:\n",
    "            _rtrn_str += \"|\" + str(_addr)\n",
    "            \n",
    "    return _rtrn_str"
   ],
   "id": "1fd05359d7bd06dd",
   "outputs": [],
   "execution_count": 12
  },
  {
   "metadata": {
    "ExecuteTime": {
     "end_time": "2024-11-15T12:15:39.816954Z",
     "start_time": "2024-11-15T12:15:39.812410Z"
    }
   },
   "cell_type": "code",
   "source": [
    "def chunk_addresses(_addresses : list, _chunk_size : int = 50) -> list:\n",
    "    \"\"\"\n",
    "    Takes a list of addresses and splits it into chunks of _chunk_size.\n",
    "    For example, if you pass a list of 1000 it will return blocks of addresses equal to _chunk_size, default 50.\n",
    "    \n",
    "    This function should only be used in a loop as it returns a generator that yields chunks of addresses.\n",
    "    \n",
    "    :param _addresses: (list) List of addresses to split.\n",
    "    :param _chunk_size: (int) The value of addresses to be grouped and returned.\n",
    "    :return: (list) Acts as a generator. Returns a list containing _chunk_size number of addresses. \n",
    "    \"\"\"\n",
    "    # From 0 to the number of addresses we have, iterate in steps equal to our _chunk_size variable (default at 50)\n",
    "    for i in range(0, len(_addresses), _chunk_size):\n",
    "        # Yield, for further iteration, the index slice of the addresses equal to our chunk size.\n",
    "        yield _addresses[i:i + _chunk_size]"
   ],
   "id": "4f561cf8caa1ef19",
   "outputs": [],
   "execution_count": 13
  },
  {
   "metadata": {
    "ExecuteTime": {
     "end_time": "2024-11-15T12:15:39.824588Z",
     "start_time": "2024-11-15T12:15:39.816954Z"
    }
   },
   "cell_type": "code",
   "source": [
    "def get_max_balance(_current_block : dict, _in : bool, _chunk_size : int = 50) -> dict:\n",
    "    \"\"\"\n",
    "    Takes the current block and finds the maximum balance of the addresses in the block.\n",
    "    :param _current_block: (dict) The dictionary representing the current block.\n",
    "    :param _in: (bool) True if you want to look at transaction inputs. False if you want to look at transaction outputs.\n",
    "    :param _chunk_size: (int) The value of addresses to be grouped and returned. Higher means more latency time but less compute time.\n",
    "    :return: (dict) The address which held the maximum balance as the key, and the maximum balance as the value.\n",
    "    \"\"\"\n",
    "    \n",
    "    # Get our list of addresses.\n",
    "    _addresses = get_block_addresses(_current_block, _in)\n",
    "    \n",
    "    # We get a lot of repeat addresses through the get_block_addresses() function.\n",
    "    # Since we aren't worried about transaction order, and we don't want to get the max balance for an address twice, ...\n",
    "    #   we can remove them to minimise api get requests.\n",
    "    _unique_addr = list(set(_addresses))\n",
    "    \n",
    "    # Initialise our important counter/container variables.\n",
    "    rtrn_dict : dict = {}\n",
    "    max_balance : float = 0.0\n",
    "    max_addr : str = \"\"\n",
    "    \n",
    "    # Iterate over our generator object returned from chunk_addresses() function.\n",
    "    for _addr_chunk in chunk_addresses(_unique_addr, _chunk_size):\n",
    "        # Turn our addresses into concatenated string which can be used in an api get request.\n",
    "        _address_str = addresses_to_str(_addr_chunk)\n",
    "        \n",
    "        # Get the balance request of multiple addresses using pipe delimiter.\n",
    "        balance_request = requests.get(api_config['balance']['root'] + _address_str)\n",
    "        balance_data = balance_request.json()\n",
    "        \n",
    "        # For each address, look at the final balance of the address and see if it is the greatest value seen.\n",
    "        for _addr, _bal_info in balance_data.items():\n",
    "            balance = _bal_info['final_balance']\n",
    "            max_balance = max(max_balance, balance)\n",
    "            \n",
    "            # If the max_balance is the balance for the current address, store that address.\n",
    "            if balance == max_balance:\n",
    "                max_addr = _addr\n",
    "    \n",
    "    \n",
    "    rtrn_dict[max_addr] = max_balance        \n",
    "            \n",
    "    return rtrn_dict"
   ],
   "id": "2f8294d50a786002",
   "outputs": [],
   "execution_count": 14
  },
  {
   "metadata": {
    "ExecuteTime": {
     "end_time": "2024-11-15T12:15:39.828964Z",
     "start_time": "2024-11-15T12:15:39.825749Z"
    }
   },
   "cell_type": "code",
   "source": [
    "def get_exchange_rates() -> dict:\n",
    "    # Very simply gets exchangerates from the blockchain.\n",
    "    return requests.get(\"https://blockchain.info/ticker\").json()"
   ],
   "id": "688e2ec9962c81cb",
   "outputs": [],
   "execution_count": 15
  },
  {
   "metadata": {
    "ExecuteTime": {
     "end_time": "2024-11-15T12:15:39.833704Z",
     "start_time": "2024-11-15T12:15:39.828964Z"
    }
   },
   "cell_type": "code",
   "source": [
    "def calc_currency_conversion(_exchange_data : dict, _currency : list, _btc : float) -> float:\n",
    "    \"\"\"\n",
    "    Takes the exchange rate data and calculates the currency conversion.\n",
    "    :param _exchange_data: (dict) The exchange rate data.\n",
    "    :param _currency: (list) The currency to convert and crucially the time period for the data.\n",
    "    :param _btc: (float) The btc value to convert. Crucially, not in satoshi.\n",
    "    :return: (float) The currency conversion.\n",
    "    \"\"\"\n",
    "    return _btc * int(_exchange_data[_currency[0]][_currency[1]])"
   ],
   "id": "6afa5501afa05e30",
   "outputs": [],
   "execution_count": 16
  },
  {
   "metadata": {
    "ExecuteTime": {
     "end_time": "2024-11-15T12:15:39.838058Z",
     "start_time": "2024-11-15T12:15:39.833704Z"
    }
   },
   "cell_type": "code",
   "source": [
    "def format_float_to_str(_float : float) -> str:\n",
    "    # Converts a float value to string using string formatting.\n",
    "    return \"{:,.2f}\".format(_float)"
   ],
   "id": "148afcad17be0293",
   "outputs": [],
   "execution_count": 17
  },
  {
   "metadata": {},
   "cell_type": "markdown",
   "source": "<i>End of defining functions</i>",
   "id": "391dea28141bfe6b"
  },
  {
   "metadata": {
    "ExecuteTime": {
     "end_time": "2024-11-15T12:15:39.983697Z",
     "start_time": "2024-11-15T12:15:39.839564Z"
    }
   },
   "cell_type": "code",
   "source": [
    "# Gather exchange-rate data.\n",
    "exchange_data = get_exchange_rates()"
   ],
   "id": "995445b4cd87bb61",
   "outputs": [],
   "execution_count": 18
  },
  {
   "metadata": {
    "ExecuteTime": {
     "end_time": "2024-11-15T12:25:07.190519Z",
     "start_time": "2024-11-15T12:15:39.983697Z"
    }
   },
   "cell_type": "code",
   "source": [
    "# Get the address with the highest balance, out of all the addresses that sent money in transactions within the current block.\n",
    "in_max = get_max_balance(latest_block, True, 50)"
   ],
   "id": "bbb7e50da4fe56bf",
   "outputs": [],
   "execution_count": 19
  },
  {
   "metadata": {
    "ExecuteTime": {
     "end_time": "2024-11-15T12:25:07.194051Z",
     "start_time": "2024-11-15T12:25:07.190908Z"
    }
   },
   "cell_type": "code",
   "source": [
    "# Unpack the dictionary of wallet_address : balance.\n",
    "in_max_addr, in_max_balance = next(iter(in_max.items()))\n",
    "\n",
    "# Just to clarify the logic of the line above:\n",
    "#   in_max.items() returns a view object which will show the tuples available in the in_max dict.\n",
    "#   iter(in_max.items()) creates an iterable object which includes the tuples within the view object.\n",
    "#   next(iter(in_max.items())) calls the next tuple (the first and only tuple) and returns that.\n",
    "#   Since we only have one key-value pair in the dictionary, we can simply unpack this tuple to get our address and btc balance of that address."
   ],
   "id": "86fc9b7237bd6eab",
   "outputs": [],
   "execution_count": 20
  },
  {
   "metadata": {
    "ExecuteTime": {
     "end_time": "2024-11-15T12:25:07.219091Z",
     "start_time": "2024-11-15T12:25:07.194051Z"
    }
   },
   "cell_type": "code",
   "source": [
    "# Turn the satoshi balance returned by the get_max_balance() function into btc.\n",
    "in_max_btc = in_max_balance / 100000000\n",
    "\n",
    "# Find the converted value of the btc into USD using current exchange-rate data.\n",
    "in_max_usd = calc_currency_conversion(exchange_data, [\"USD\", \"15m\"], in_max_btc)\n",
    "\n",
    "# Format the result using more human-readable friendly approach.\n",
    "in_max_usd_f = format_float_to_str(in_max_usd)\n",
    "\n",
    "# Output the results.\n",
    "Markdown(f\"Max btc balance of addresses who sent money in this block is: <b>{in_max_btc}</b>  \"\n",
    "         f\"\\nThe USD conversion equates to: <b>${in_max_usd_f}</b>  \"\n",
    "         f\"\\nThe address with this value of bitcoin was: <b>{in_max_addr}</b>\")"
   ],
   "id": "ed181205c3c3e4e1",
   "outputs": [
    {
     "data": {
      "text/plain": [
       "<IPython.core.display.Markdown object>"
      ],
      "text/markdown": "Max btc balance of addresses who sent money in this block is: <b>14813.75897698</b>  \nThe USD conversion equates to: <b>$1,340,393,353.51</b>  \nThe address with this value of bitcoin was: <b>bc1q6qphr80zug3v37xf503a7atzfn3au2fz0dy9ek</b>"
     },
     "execution_count": 21,
     "metadata": {},
     "output_type": "execute_result"
    }
   ],
   "execution_count": 21
  },
  {
   "metadata": {
    "ExecuteTime": {
     "end_time": "2024-11-15T12:34:06.389361Z",
     "start_time": "2024-11-15T12:25:07.219973Z"
    }
   },
   "cell_type": "code",
   "source": [
    "# Same process as before, but for wallet addresses which received btc in transactions in the current block.\n",
    "out_max = get_max_balance(latest_block, False, 50)"
   ],
   "id": "c105052cf78af1aa",
   "outputs": [],
   "execution_count": 22
  },
  {
   "metadata": {
    "ExecuteTime": {
     "end_time": "2024-11-15T12:34:06.393910Z",
     "start_time": "2024-11-15T12:34:06.389361Z"
    }
   },
   "cell_type": "code",
   "source": [
    "# Unpack our address and max balance. Reference 3 cells above for a breakdown of the logic of this cell.\n",
    "out_max_addr, out_max_balance = next(iter(out_max.items()))"
   ],
   "id": "4fbccea84569de74",
   "outputs": [],
   "execution_count": 23
  },
  {
   "metadata": {
    "ExecuteTime": {
     "end_time": "2024-11-15T12:34:06.401582Z",
     "start_time": "2024-11-15T12:34:06.393910Z"
    }
   },
   "cell_type": "code",
   "source": [
    "# Turn satoshi into btc, convert it into USD using exchange-rate data and format it for human consumption, as before.\n",
    "out_max_btc = out_max_balance / 100000000\n",
    "out_max_usd = calc_currency_conversion(exchange_data, [\"USD\", \"15m\"], out_max_btc)\n",
    "out_max_usd_f = format_float_to_str(out_max_usd)\n",
    "\n",
    "# Output the results.\n",
    "Markdown(f\"Max btc balance of addresses who received money in this block is: <b>{out_max_btc}</b>  \"\n",
    "         f\"\\nThe USD conversion equates to: <b>${out_max_usd_f}</b>  \"\n",
    "         f\"\\nThe address with this value of bitcoin was: <b>{out_max_addr}</b>\")"
   ],
   "id": "c708438adcb96d9b",
   "outputs": [
    {
     "data": {
      "text/plain": [
       "<IPython.core.display.Markdown object>"
      ],
      "text/markdown": "Max btc balance of addresses who received money in this block is: <b>18012.28364176</b>  \nThe USD conversion equates to: <b>$1,629,805,460.76</b>  \nThe address with this value of bitcoin was: <b>bc1qcdqj2smprre85c78d942wx5tauw5n7uw92r7wr</b>"
     },
     "execution_count": 24,
     "metadata": {},
     "output_type": "execute_result"
    }
   ],
   "execution_count": 24
  },
  {
   "metadata": {
    "ExecuteTime": {
     "end_time": "2024-11-15T13:31:11.583264Z",
     "start_time": "2024-11-15T13:31:10.974294Z"
    }
   },
   "cell_type": "code",
   "source": [
    "# We have obtained the greatest value of the addresses who sent bitcoin and the addresses which received bitcoin.\n",
    "# Now we have to determine which is greatest out of all of them and print that value and address.\n",
    "\n",
    "# For assertions, Markdown() can't be used, or at least I had issues with it, so here I have to print to terminal.\n",
    "if out_max_btc > in_max_btc:\n",
    "    print(f\"Therefor, the address with the greatest balance is {out_max_addr} with {out_max_btc} btc\")\n",
    "    \n",
    "elif in_max_btc > out_max_btc:\n",
    "    print(f\"Therefor, the address with the greatest balance is {in_max_addr} with {in_max_btc} btc\")\n",
    "    \n",
    "else:\n",
    "    print(f\"The input and output addresses with the greatest balance in this block had the same value!\\n\"\n",
    "          f\"The addresses tied with {in_max_btc} btc\\n\"\n",
    "          f\"The addresses were: {in_max_addr} and {out_max_addr}\")"
   ],
   "id": "dee980b0861dbc19",
   "outputs": [
    {
     "ename": "NameError",
     "evalue": "name 'out_max_btc' is not defined",
     "output_type": "error",
     "traceback": [
      "\u001B[1;31m---------------------------------------------------------------------------\u001B[0m",
      "\u001B[1;31mNameError\u001B[0m                                 Traceback (most recent call last)",
      "Cell \u001B[1;32mIn[1], line 3\u001B[0m\n\u001B[0;32m      1\u001B[0m \u001B[38;5;66;03m# We have obtained the greatest value of the addresses who sent bitcoin and the addresses which received bitcoin.\u001B[39;00m\n\u001B[0;32m      2\u001B[0m \u001B[38;5;66;03m# Now we have to determine which is greatest out of all of them and print that value and address.\u001B[39;00m\n\u001B[1;32m----> 3\u001B[0m \u001B[38;5;28;01mif\u001B[39;00m out_max_btc \u001B[38;5;241m>\u001B[39m in_max_btc:\n\u001B[0;32m      4\u001B[0m     \u001B[38;5;28mprint\u001B[39m(\u001B[38;5;124mf\u001B[39m\u001B[38;5;124m\"\u001B[39m\u001B[38;5;124mTherefor, the address with the greatest balance is \u001B[39m\u001B[38;5;132;01m{\u001B[39;00mout_max_addr\u001B[38;5;132;01m}\u001B[39;00m\u001B[38;5;124m with \u001B[39m\u001B[38;5;132;01m{\u001B[39;00mout_max_btc\u001B[38;5;132;01m}\u001B[39;00m\u001B[38;5;124m btc\u001B[39m\u001B[38;5;124m\"\u001B[39m)\n\u001B[0;32m      6\u001B[0m \u001B[38;5;28;01melif\u001B[39;00m in_max_btc \u001B[38;5;241m>\u001B[39m out_max_btc:\n",
      "\u001B[1;31mNameError\u001B[0m: name 'out_max_btc' is not defined"
     ]
    }
   ],
   "execution_count": 1
  },
  {
   "metadata": {},
   "cell_type": "markdown",
   "source": "<h1>Which address has most number of transactions?</h1>",
   "id": "cee3fd132f1fa35a"
  },
  {
   "metadata": {
    "ExecuteTime": {
     "end_time": "2024-11-15T12:51:24.026478Z",
     "start_time": "2024-11-15T12:34:06.405731Z"
    }
   },
   "cell_type": "code",
   "source": [
    "# We can call the get_block_addresses() method again here with the True and False _in parameters to get all transaction data within the block.\n",
    "total_addr = get_block_addresses(latest_block, True)\n",
    "total_addr += get_block_addresses(latest_block, False)"
   ],
   "id": "31892415cfccca5",
   "outputs": [],
   "execution_count": 26
  },
  {
   "metadata": {
    "ExecuteTime": {
     "end_time": "2024-11-15T12:51:24.034634Z",
     "start_time": "2024-11-15T12:51:24.027698Z"
    }
   },
   "cell_type": "code",
   "source": [
    "# Python has a built-in Counter object which is perfect for iterable objects like our string.\n",
    "#   Counter(total_addr) will return the number of times an address in our total_addr list is reference.\n",
    "#       Like this: {\"bc1qr4dl5wa7kl8yu792dceg9z5knl2gkn220lk7a9\" : 3, \"wallet_address...\" : 17, ...}\n",
    "addr_count = Counter(total_addr)\n",
    "\n",
    "# We can use the Counter().most_common(n) method to get n most common occurrences from our Counter object.\n",
    "#   .most_common(n) returns a list of tuples, and we will only have 1 tuple, so we need to index the list with [0] to unpack our tuple.\n",
    "max_addr, max_count = addr_count.most_common(1)[0]\n",
    "\n",
    "Markdown(f\"The address with the most transactions in this block was: {max_addr}  \"\n",
    "         f\"\\nThey were involved in transactions (potentially as both senders and receivers) a total of {max_count} times in this block!\")"
   ],
   "id": "a3a17a0ad59730a5",
   "outputs": [
    {
     "data": {
      "text/plain": [
       "<IPython.core.display.Markdown object>"
      ],
      "text/markdown": "The address with the most transactions in this block was: bc1puddcm7ksydntfcwyeqyykczkv2f4kdvzlqjhaacl7esg7grm2cwsk8gahj  \nThey were involved in transactions (potentially as both senders and receivers) a total of 1020 times in this block!"
     },
     "execution_count": 27,
     "metadata": {},
     "output_type": "execute_result"
    }
   ],
   "execution_count": 27
  },
  {
   "metadata": {},
   "cell_type": "markdown",
   "source": "<h1>When did this address become active? (first transaction on the network)</h1>",
   "id": "b836c49cd7e59f0b"
  },
  {
   "metadata": {
    "ExecuteTime": {
     "end_time": "2024-11-15T12:51:24.766910Z",
     "start_time": "2024-11-15T12:51:24.035160Z"
    }
   },
   "cell_type": "code",
   "source": [
    "# blockchain.com/api has an endpoint for this in its plaintext query api.\n",
    "# We can pass an address to the addressfirstseen endpoint, and it will return a UTC timestamp of when the address was first seen on the blockchain.\n",
    "seen = requests.get(api_config['blockchain_api']['root'] + 'q/addressfirstseen/' + str(max_addr)).json()\n",
    "\n",
    "# Convert the UTC timestamp to datetime object for string formatting.\n",
    "seen_dt = datetime.datetime.utcfromtimestamp(seen)\n",
    "\n",
    "# Output our results.\n",
    "Markdown(f\"This address saw its first activity on the Bitcoin blockchain on \"\n",
    "         f\"{seen_dt.strftime('%d/%m/%y')} at {seen_dt.strftime('%H:%M')}.\")"
   ],
   "id": "b062516e7ea54fab",
   "outputs": [
    {
     "data": {
      "text/plain": [
       "<IPython.core.display.Markdown object>"
      ],
      "text/markdown": "This address saw its first activity on the Bitcoin blockchain on 20/10/24 at 08:43."
     },
     "execution_count": 28,
     "metadata": {},
     "output_type": "execute_result"
    }
   ],
   "execution_count": 28
  }
 ],
 "metadata": {
  "kernelspec": {
   "display_name": "Python 3",
   "language": "python",
   "name": "python3"
  },
  "language_info": {
   "codemirror_mode": {
    "name": "ipython",
    "version": 2
   },
   "file_extension": ".py",
   "mimetype": "text/x-python",
   "name": "python",
   "nbconvert_exporter": "python",
   "pygments_lexer": "ipython2",
   "version": "2.7.6"
  }
 },
 "nbformat": 4,
 "nbformat_minor": 5
}
